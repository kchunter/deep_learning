{
 "cells": [
  {
   "cell_type": "markdown",
   "id": "f5733f54",
   "metadata": {},
   "source": [
    "# 1. Data Extraction and Exploratory Data Analysis"
   ]
  },
  {
   "cell_type": "markdown",
   "id": "c63fc93e",
   "metadata": {},
   "source": [
    "The first step is to extract data from some source/s (web or local) and then to explore it, i.e. to do the exploratory data analysis."
   ]
  },
  {
   "cell_type": "code",
   "execution_count": 1,
   "id": "7564f0bf",
   "metadata": {},
   "outputs": [],
   "source": [
    "import torch\n",
    "import torchvision\n",
    "import torchvision.transforms as transforms\n",
    "import matplotlib.pyplot as plt"
   ]
  },
  {
   "cell_type": "code",
   "execution_count": 2,
   "id": "ccdf0141",
   "metadata": {},
   "outputs": [],
   "source": [
    "train_set = torchvision.datasets.FashionMNIST(\n",
    "    root=\"../data/raw/\",\n",
    "    train=True,\n",
    "    download=True,\n",
    "    transform=transforms.Compose([\n",
    "        transforms.ToTensor()\n",
    "    ])\n",
    ")"
   ]
  },
  {
   "cell_type": "code",
   "execution_count": 3,
   "id": "0203dc6e",
   "metadata": {},
   "outputs": [
    {
     "name": "stdout",
     "output_type": "stream",
     "text": [
      " Volume in drive C has no label.\n",
      " Volume Serial Number is C848-4D31\n",
      "\n",
      " Directory of C:\\Users\\Matija\\Desktop\\main\\ai\\development\\fmnist_pytorch_fcffm\\data\\raw\\FashionMNIST\\processed\n",
      "\n",
      "04/26/2021  05:29 PM    <DIR>          .\n",
      "04/26/2021  05:29 PM    <DIR>          ..\n",
      "04/26/2021  05:29 PM         7,921,087 test.pt\n",
      "04/26/2021  05:29 PM        47,521,087 training.pt\n",
      "               2 File(s)     55,442,174 bytes\n",
      "               2 Dir(s)  15,956,570,112 bytes free\n"
     ]
    }
   ],
   "source": [
    "ls ..\\\\data\\\\raw\\\\FashionMNIST\\\\processed"
   ]
  },
  {
   "cell_type": "code",
   "execution_count": 4,
   "id": "446aca1a",
   "metadata": {},
   "outputs": [],
   "source": [
    "test_set = torchvision.datasets.FashionMNIST(\n",
    "    root=\"../data/raw/\",\n",
    "    train=False,\n",
    "    transform=transforms.Compose([\n",
    "        transforms.ToTensor()\n",
    "    ])\n",
    ")"
   ]
  },
  {
   "cell_type": "markdown",
   "id": "8bffa9b4",
   "metadata": {},
   "source": [
    "Test set is also downloaded (together with the train set) so we just need to import it with almost the same command."
   ]
  },
  {
   "cell_type": "code",
   "execution_count": 5,
   "id": "35f9ac47",
   "metadata": {},
   "outputs": [
    {
     "data": {
      "text/plain": [
       "torchvision.datasets.mnist.FashionMNIST"
      ]
     },
     "execution_count": 5,
     "metadata": {},
     "output_type": "execute_result"
    }
   ],
   "source": [
    "type(train_set)"
   ]
  },
  {
   "cell_type": "code",
   "execution_count": 6,
   "id": "ded73e25",
   "metadata": {},
   "outputs": [
    {
     "data": {
      "text/plain": [
       "60000"
      ]
     },
     "execution_count": 6,
     "metadata": {},
     "output_type": "execute_result"
    }
   ],
   "source": [
    "len(train_set)"
   ]
  },
  {
   "cell_type": "markdown",
   "id": "4de82794",
   "metadata": {},
   "source": [
    "There are 60 000 images in the train set."
   ]
  },
  {
   "cell_type": "code",
   "execution_count": 7,
   "id": "892d695d",
   "metadata": {},
   "outputs": [
    {
     "data": {
      "text/plain": [
       "tensor([9, 0, 0,  ..., 3, 0, 5])"
      ]
     },
     "execution_count": 7,
     "metadata": {},
     "output_type": "execute_result"
    }
   ],
   "source": [
    "train_set.targets"
   ]
  },
  {
   "cell_type": "code",
   "execution_count": 8,
   "id": "2333bb52",
   "metadata": {},
   "outputs": [
    {
     "data": {
      "text/plain": [
       "tensor([0, 1, 2, 3, 4, 5, 6, 7, 8, 9])"
      ]
     },
     "execution_count": 8,
     "metadata": {},
     "output_type": "execute_result"
    }
   ],
   "source": [
    "torch.unique(train_set.targets)"
   ]
  },
  {
   "cell_type": "markdown",
   "id": "9ee2d1d0",
   "metadata": {},
   "source": [
    "This problem is a multiclass classification problem with 10 different classes throughout our train set."
   ]
  },
  {
   "cell_type": "code",
   "execution_count": 9,
   "id": "fd7313d5",
   "metadata": {},
   "outputs": [
    {
     "data": {
      "text/plain": [
       "tensor([6000, 6000, 6000, 6000, 6000, 6000, 6000, 6000, 6000, 6000])"
      ]
     },
     "execution_count": 9,
     "metadata": {},
     "output_type": "execute_result"
    }
   ],
   "source": [
    "train_set.targets.bincount()"
   ]
  },
  {
   "cell_type": "markdown",
   "id": "9c121a67",
   "metadata": {},
   "source": [
    "Same number of instances in each class means that the train set is a balanced one."
   ]
  },
  {
   "cell_type": "code",
   "execution_count": 10,
   "id": "7c5d9ce7",
   "metadata": {},
   "outputs": [
    {
     "data": {
      "text/plain": [
       "torch.Size([1, 28, 28])"
      ]
     },
     "execution_count": 10,
     "metadata": {},
     "output_type": "execute_result"
    }
   ],
   "source": [
    "image, target = train_set[0]\n",
    "image.shape"
   ]
  },
  {
   "cell_type": "code",
   "execution_count": 9,
   "id": "1981cdba",
   "metadata": {},
   "outputs": [
    {
     "data": {
      "image/png": "[encoded data removed]",
      "text/plain": [
       "<Figure size 432x288 with 1 Axes>"
      ]
     },
     "metadata": {
      "needs_background": "light"
     },
     "output_type": "display_data"
    }
   ],
   "source": [
    "plt.imshow(image.squeeze(), cmap=\"gray\")\n",
    "plt.title(target)\n",
    "plt.show()"
   ]
  },
  {
   "cell_type": "code",
   "execution_count": 10,
   "id": "c96bbe1e",
   "metadata": {},
   "outputs": [
    {
     "data": {
      "text/plain": [
       "['T-shirt/top',\n",
       " 'Trouser',\n",
       " 'Pullover',\n",
       " 'Dress',\n",
       " 'Coat',\n",
       " 'Sandal',\n",
       " 'Shirt',\n",
       " 'Sneaker',\n",
       " 'Bag',\n",
       " 'Ankle boot']"
      ]
     },
     "execution_count": 10,
     "metadata": {},
     "output_type": "execute_result"
    }
   ],
   "source": [
    "train_set.classes"
   ]
  },
  {
   "cell_type": "markdown",
   "id": "cc0af9e5",
   "metadata": {},
   "source": [
    "These are previously mentioned 10 classes that exist in our train set."
   ]
  },
  {
   "cell_type": "code",
   "execution_count": 11,
   "id": "dbadee24",
   "metadata": {},
   "outputs": [],
   "source": [
    "train_loader = torch.utils.data.DataLoader(train_set, batch_size=10)"
   ]
  },
  {
   "cell_type": "markdown",
   "id": "4e0c7083",
   "metadata": {},
   "source": [
    "Wraping our train set with a DataLoader class which can help us with defining a batch size, data shuffling, model training, etc."
   ]
  },
  {
   "cell_type": "code",
   "execution_count": 12,
   "id": "90ac0504",
   "metadata": {},
   "outputs": [
    {
     "data": {
      "text/plain": [
       "<torch.utils.data.dataloader.DataLoader at 0x1aa8bccc5e0>"
      ]
     },
     "execution_count": 12,
     "metadata": {},
     "output_type": "execute_result"
    }
   ],
   "source": [
    "train_loader"
   ]
  },
  {
   "cell_type": "code",
   "execution_count": 13,
   "id": "d68002ef",
   "metadata": {},
   "outputs": [],
   "source": [
    "train_set_iter = iter(train_loader)\n",
    "batch = next(train_set_iter)"
   ]
  },
  {
   "cell_type": "markdown",
   "id": "7cac675f",
   "metadata": {},
   "source": [
    "Transforming the train_loader into an iterator and getting the first batch of images."
   ]
  },
  {
   "cell_type": "code",
   "execution_count": 14,
   "id": "4d0e9594",
   "metadata": {},
   "outputs": [
    {
     "data": {
      "text/plain": [
       "2"
      ]
     },
     "execution_count": 14,
     "metadata": {},
     "output_type": "execute_result"
    }
   ],
   "source": [
    "len(batch)"
   ]
  },
  {
   "cell_type": "markdown",
   "id": "8c1067bd",
   "metadata": {},
   "source": [
    "First part of the batch are images in rank-4 tensor format. Number of images in batch have been specified few lines above where we created the train loader. Second part are labes/targets of images in batch."
   ]
  },
  {
   "cell_type": "code",
   "execution_count": 15,
   "id": "d873cdc1",
   "metadata": {},
   "outputs": [
    {
     "data": {
      "text/plain": [
       "list"
      ]
     },
     "execution_count": 15,
     "metadata": {},
     "output_type": "execute_result"
    }
   ],
   "source": [
    "type(batch)"
   ]
  },
  {
   "cell_type": "code",
   "execution_count": 16,
   "id": "1853603e",
   "metadata": {},
   "outputs": [],
   "source": [
    "images, targets = batch"
   ]
  },
  {
   "cell_type": "code",
   "execution_count": 17,
   "id": "2334dbfe",
   "metadata": {},
   "outputs": [
    {
     "data": {
      "text/plain": [
       "torch.Size([10, 1, 28, 28])"
      ]
     },
     "execution_count": 17,
     "metadata": {},
     "output_type": "execute_result"
    }
   ],
   "source": [
    "images.shape"
   ]
  },
  {
   "cell_type": "markdown",
   "id": "f3cac93e",
   "metadata": {},
   "source": [
    "This is a rank-4 tensor with four axes. Each index in the tensor's shape represents a specific axis, and the value at each index gives us the length of the corresponding axis. First axis is a batch size, second is number of channels, third is an image height and fourth is an image width."
   ]
  },
  {
   "cell_type": "code",
   "execution_count": 18,
   "id": "28bbabb9",
   "metadata": {},
   "outputs": [
    {
     "name": "stdout",
     "output_type": "stream",
     "text": [
      "tensor(0.)\n",
      "tensor(1.)\n"
     ]
    }
   ],
   "source": [
    "print(images[0, 0, :, :].min())\n",
    "print(images[0, 0, :, :].max())"
   ]
  },
  {
   "cell_type": "markdown",
   "id": "ac3efa32",
   "metadata": {},
   "source": [
    "These images are also normalized, i.e. all pixel values, for each image, are between zero and one."
   ]
  },
  {
   "cell_type": "code",
   "execution_count": 19,
   "id": "a3a8eb8f",
   "metadata": {},
   "outputs": [
    {
     "data": {
      "text/plain": [
       "torch.Size([10])"
      ]
     },
     "execution_count": 19,
     "metadata": {},
     "output_type": "execute_result"
    }
   ],
   "source": [
    "targets.shape"
   ]
  },
  {
   "cell_type": "code",
   "execution_count": 20,
   "id": "6f357683",
   "metadata": {},
   "outputs": [
    {
     "name": "stdout",
     "output_type": "stream",
     "text": [
      "targets: [9, 0, 0, 3, 0, 2, 7, 2, 5, 5]\n"
     ]
    },
    {
     "data": {
      "image/png": "[encoded data removed]",
      "text/plain": [
       "<Figure size 1080x1080 with 1 Axes>"
      ]
     },
     "metadata": {
      "needs_background": "light"
     },
     "output_type": "display_data"
    }
   ],
   "source": [
    "grid = torchvision.utils.make_grid(images, nrow=10)\n",
    "plt.figure(figsize=(15, 15))\n",
    "plt.imshow(grid.permute(1, 2, 0))\n",
    "\n",
    "print(f\"targets: {targets.tolist()}\")"
   ]
  },
  {
   "cell_type": "code",
   "execution_count": 21,
   "id": "9be09fcc",
   "metadata": {},
   "outputs": [],
   "source": [
    "batch = next(train_set_iter)"
   ]
  },
  {
   "cell_type": "markdown",
   "id": "47f7f6e0",
   "metadata": {},
   "source": [
    "Getting the second batch of images and the targets from the train set."
   ]
  },
  {
   "cell_type": "code",
   "execution_count": 22,
   "id": "426fb30e",
   "metadata": {},
   "outputs": [],
   "source": [
    "images, targets = batch"
   ]
  },
  {
   "cell_type": "code",
   "execution_count": 23,
   "id": "fae9d77a",
   "metadata": {},
   "outputs": [
    {
     "name": "stdout",
     "output_type": "stream",
     "text": [
      "targets: [0, 9, 5, 5, 7, 9, 1, 0, 6, 4]\n"
     ]
    },
    {
     "data": {
      "image/png": "[encoded data removed]",
      "text/plain": [
       "<Figure size 1080x1080 with 1 Axes>"
      ]
     },
     "metadata": {
      "needs_background": "light"
     },
     "output_type": "display_data"
    }
   ],
   "source": [
    "grid = torchvision.utils.make_grid(images, nrow=10)\n",
    "plt.figure(figsize=(15, 15))\n",
    "plt.imshow(grid.permute(1, 2, 0))\n",
    "\n",
    "print(f\"targets: {targets.tolist()}\")"
   ]
  },
  {
   "cell_type": "code",
   "execution_count": 24,
   "id": "2c76cd23",
   "metadata": {},
   "outputs": [],
   "source": [
    "torch.save(train_set, \"..\\\\data\\\\processed\\\\train.pt\")"
   ]
  },
  {
   "cell_type": "markdown",
   "id": "18b17517",
   "metadata": {},
   "source": [
    "Saving our processed train set into our \"processed\" data folder, from our template (not the one that was created after we downloaded the training set)."
   ]
  },
  {
   "cell_type": "markdown",
   "id": "c9b38d77",
   "metadata": {},
   "source": [
    "**Now, we are going to inspect, just a little bit, our test set to see if everything is alright**"
   ]
  },
  {
   "cell_type": "code",
   "execution_count": 11,
   "id": "d1834eb7",
   "metadata": {},
   "outputs": [
    {
     "name": "stdout",
     "output_type": "stream",
     "text": [
      "type: <class 'torchvision.datasets.mnist.FashionMNIST'>\n",
      "length: 10000\n",
      "targets/labels: tensor([9, 2, 1,  ..., 8, 1, 5])\n",
      "unique labels: tensor([0, 1, 2, 3, 4, 5, 6, 7, 8, 9])\n",
      "distribution of labels: tensor([1000, 1000, 1000, 1000, 1000, 1000, 1000, 1000, 1000, 1000])\n"
     ]
    }
   ],
   "source": [
    "print(\"type:\", type(test_set))\n",
    "print(\"length:\", len(test_set))\n",
    "print(\"targets/labels:\", test_set.targets)\n",
    "print(\"unique labels:\", torch.unique(test_set.targets))\n",
    "print(\"distribution of labels:\", test_set.targets.bincount())"
   ]
  },
  {
   "cell_type": "markdown",
   "id": "771dbb42",
   "metadata": {},
   "source": [
    "For now, everything is alright"
   ]
  },
  {
   "cell_type": "code",
   "execution_count": 12,
   "id": "1d3af7e8",
   "metadata": {},
   "outputs": [
    {
     "data": {
      "text/plain": [
       "['T-shirt/top',\n",
       " 'Trouser',\n",
       " 'Pullover',\n",
       " 'Dress',\n",
       " 'Coat',\n",
       " 'Sandal',\n",
       " 'Shirt',\n",
       " 'Sneaker',\n",
       " 'Bag',\n",
       " 'Ankle boot']"
      ]
     },
     "execution_count": 12,
     "metadata": {},
     "output_type": "execute_result"
    }
   ],
   "source": [
    "test_set.classes"
   ]
  },
  {
   "cell_type": "code",
   "execution_count": 13,
   "id": "34924e5a",
   "metadata": {},
   "outputs": [
    {
     "name": "stdout",
     "output_type": "stream",
     "text": [
      "shape of first image in the test set: torch.Size([1, 28, 28])\n",
      "max value in the image: tensor(1.)\n"
     ]
    },
    {
     "data": {
      "image/png": "[encoded data removed]",
      "text/plain": [
       "<Figure size 432x288 with 1 Axes>"
      ]
     },
     "metadata": {
      "needs_background": "light"
     },
     "output_type": "display_data"
    }
   ],
   "source": [
    "test_image, test_target = test_set[0]\n",
    "print(\"shape of first image in the test set:\", test_image.shape)\n",
    "print(\"max value in the image:\", test_image.squeeze().max())\n",
    "plt.imshow(test_image.squeeze(), cmap=\"gray\")\n",
    "plt.title(f\"label: {target} ({test_set.classes[target]})\")\n",
    "plt.show()"
   ]
  },
  {
   "cell_type": "code",
   "execution_count": 14,
   "id": "bc3509d7",
   "metadata": {},
   "outputs": [],
   "source": [
    "torch.save(test_set, \"..\\\\data\\\\processed\\\\test.pt\")"
   ]
  },
  {
   "cell_type": "markdown",
   "id": "4f62818a",
   "metadata": {},
   "source": [
    "Everything is as we've expected, so we can save the test set."
   ]
  }
 ],
 "metadata": {
  "kernelspec": {
   "display_name": "Python 3",
   "language": "python",
   "name": "python3"
  },
  "language_info": {
   "codemirror_mode": {
    "name": "ipython",
    "version": 3
   },
   "file_extension": ".py",
   "mimetype": "text/x-python",
   "name": "python",
   "nbconvert_exporter": "python",
   "pygments_lexer": "ipython3",
   "version": "3.9.4"
  }
 },
 "nbformat": 4,
 "nbformat_minor": 5
}
