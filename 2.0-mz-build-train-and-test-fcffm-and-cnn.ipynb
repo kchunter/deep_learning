{
 "cells": [
  {
   "cell_type": "markdown",
   "id": "ff97cc86",
   "metadata": {},
   "source": [
    "# 2. Building, training and testing a fully-connected feedforward model and CNN"
   ]
  },
  {
   "cell_type": "code",
   "execution_count": 1,
   "id": "2000eb02",
   "metadata": {},
   "outputs": [],
   "source": [
    "import torch\n",
    "import torch.nn as nn\n",
    "import torch.nn.functional as F\n",
    "import torch.optim as optim\n",
    "\n",
    "import torchvision\n",
    "import torchvision.transforms as transform\n",
    "\n",
    "from torch.utils.data.sampler import SubsetRandomSampler\n",
    "\n",
    "import math\n",
    "import numpy as np\n",
    "from sklearn.model_selection import train_test_split\n",
    "\n",
    "import matplotlib.pyplot as plt\n",
    "import pandas as pd"
   ]
  },
  {
   "cell_type": "code",
   "execution_count": 2,
   "id": "12e2a6f5",
   "metadata": {},
   "outputs": [
    {
     "name": "stdout",
     "output_type": "stream",
     "text": [
      "1.8.1+cu111\n",
      "0.9.1+cu111\n"
     ]
    }
   ],
   "source": [
    "print(torch.__version__)\n",
    "print(torchvision.__version__)"
   ]
  },
  {
   "cell_type": "code",
   "execution_count": 3,
   "id": "ab89b79f",
   "metadata": {},
   "outputs": [
    {
     "data": {
      "text/plain": [
       "<torch._C.Generator at 0x20828077b10>"
      ]
     },
     "execution_count": 3,
     "metadata": {},
     "output_type": "execute_result"
    }
   ],
   "source": [
    "torch.manual_seed(42)"
   ]
  },
  {
   "cell_type": "markdown",
   "id": "852e9662",
   "metadata": {},
   "source": [
    "Setting a random seed to ensure that results are reproducible"
   ]
  },
  {
   "cell_type": "code",
   "execution_count": 4,
   "id": "e4fd8219",
   "metadata": {},
   "outputs": [
    {
     "data": {
      "text/plain": [
       "1"
      ]
     },
     "execution_count": 4,
     "metadata": {},
     "output_type": "execute_result"
    }
   ],
   "source": [
    "torch.cuda.device_count()"
   ]
  },
  {
   "cell_type": "code",
   "execution_count": 5,
   "id": "94e96352",
   "metadata": {},
   "outputs": [
    {
     "name": "stdout",
     "output_type": "stream",
     "text": [
      "Using GPU: True\n"
     ]
    }
   ],
   "source": [
    "use_cuda = torch.cuda.is_available()\n",
    "device = torch.device(\"cuda\" if use_cuda else \"cpu\")\n",
    "print(f\"Using GPU: {use_cuda}\")"
   ]
  },
  {
   "cell_type": "markdown",
   "id": "f02d1986",
   "metadata": {},
   "source": [
    "Checking if we can use GPU for a training/testing process"
   ]
  },
  {
   "cell_type": "code",
   "execution_count": 6,
   "id": "7e69831c",
   "metadata": {},
   "outputs": [],
   "source": [
    "train_set = torch.load(\"..\\\\data\\\\processed\\\\train.pt\")\n",
    "test_set = torch.load(\"..\\\\data\\\\processed\\\\test.pt\")"
   ]
  },
  {
   "cell_type": "markdown",
   "id": "efdf7ac8",
   "metadata": {},
   "source": [
    "Loading our previously processed train and test sets"
   ]
  },
  {
   "cell_type": "code",
   "execution_count": 7,
   "id": "746767de",
   "metadata": {},
   "outputs": [],
   "source": [
    "image, target = train_set[0]"
   ]
  },
  {
   "cell_type": "code",
   "execution_count": 8,
   "id": "fc1e0800",
   "metadata": {},
   "outputs": [
    {
     "data": {
      "text/plain": [
       "torch.Size([1, 28, 28])"
      ]
     },
     "execution_count": 8,
     "metadata": {},
     "output_type": "execute_result"
    }
   ],
   "source": [
    "image.shape"
   ]
  },
  {
   "cell_type": "code",
   "execution_count": 9,
   "id": "307b4cb9",
   "metadata": {},
   "outputs": [
    {
     "data": {
      "text/plain": [
       "tensor(1.)"
      ]
     },
     "execution_count": 9,
     "metadata": {},
     "output_type": "execute_result"
    }
   ],
   "source": [
    "image.max()"
   ]
  },
  {
   "cell_type": "code",
   "execution_count": 10,
   "id": "83b1882c",
   "metadata": {},
   "outputs": [
    {
     "data": {
      "image/png": "[encoded data removed]",
      "text/plain": [
       "<Figure size 432x288 with 1 Axes>"
      ]
     },
     "metadata": {
      "needs_background": "light"
     },
     "output_type": "display_data"
    }
   ],
   "source": [
    "plt.imshow(image.squeeze(), cmap=\"gray\")\n",
    "plt.title(target)\n",
    "plt.show()"
   ]
  },
  {
   "cell_type": "markdown",
   "id": "633ba38c",
   "metadata": {},
   "source": [
    "Checking if everything is as it should be (shape, max value, etc.)"
   ]
  },
  {
   "cell_type": "code",
   "execution_count": 11,
   "id": "2d843e38",
   "metadata": {},
   "outputs": [],
   "source": [
    "targets = train_set.targets\n",
    "\n",
    "train_idx, valid_idx= train_test_split(\n",
    "    torch.arange(len(targets)), test_size=0.2, random_state=42, shuffle=True, stratify=targets)"
   ]
  },
  {
   "cell_type": "code",
   "execution_count": 12,
   "id": "1446f7b9",
   "metadata": {},
   "outputs": [],
   "source": [
    "train_batch_size = 64\n",
    "valid_batch_size = len(valid_idx)"
   ]
  },
  {
   "cell_type": "code",
   "execution_count": 13,
   "id": "a09fb5a5",
   "metadata": {},
   "outputs": [],
   "source": [
    "train_sampler = SubsetRandomSampler(train_idx)\n",
    "valid_sampler = SubsetRandomSampler(valid_idx)\n",
    "\n",
    "train_loader = torch.utils.data.DataLoader(\n",
    "    train_set, batch_size=train_batch_size, sampler=train_sampler\n",
    ")\n",
    "\n",
    "valid_loader = torch.utils.data.DataLoader(\n",
    "    train_set, batch_size=valid_batch_size, sampler=valid_sampler\n",
    ")"
   ]
  },
  {
   "cell_type": "markdown",
   "id": "aace021a",
   "metadata": {},
   "source": [
    "Splitting our initial training set into two new subsets (training set & validation set) in stratified fashion. Validation set is useful for hyperparameters tuning."
   ]
  },
  {
   "cell_type": "code",
   "execution_count": null,
   "id": "2ddb6e3e",
   "metadata": {},
   "outputs": [],
   "source": []
  },
  {
   "cell_type": "markdown",
   "id": "d01e3f1b",
   "metadata": {},
   "source": [
    "## Tips & Tricks for creating and training a neural network"
   ]
  },
  {
   "cell_type": "markdown",
   "id": "d52ce1ee",
   "metadata": {},
   "source": [
    "**Transfer Learning:**\n",
    " - method where a model developed for a task is reused as the starting point for a model on a second task\n",
    " - e.g. using models that are already trained on the ImageNet dataset, like AlexNet, VGGs, GoogLeNet, ResNets, etc. (for CV problem)\n",
    " - you can use CNN as a feature extractor where you remove last layer and freeze all others or if you have a bigger dataset you can fine-tune that pretrained model. You can only change the number of nodes in the last, output layer to fit it for your problem\n",
    " \n",
    "**Number of hidden layers:**\n",
    " - None: Only capable of representing linear separable functions or decisions\n",
    " - One: Can approximate any function that contains a continuous mapping from one finite space to another\n",
    " - Two: Can represent an arbitrary decision boundary to arbitrary accuracy with rational activation functions and can approximate any smooth mapping to any accuracy\n",
    " - More than two: Additional layers can learn complex representations (sort of automatic feature engineering) for layer layers\n",
    " \n",
    "**Number of hidden units:**\n",
    " - The number of hidden neurons should be between the size of the input layer and the size of the output layer\n",
    " - The number of hidden neurons should be 2/3 the size of the input layer, plus the size of the output layer\n",
    " - The number of hidden neurons should be less than twice the size of the input layer\n",
    " \n",
    "**Activation functions:** \n",
    " - Don't think too hard. Just use ReLU.\n",
    " - Try out Leaky ReLU / ELU / SELU / GELU\n",
    "   if you need to squeeze that last 0.1%\n",
    " - Don't use sigmoid or tanh\n",
    " \n",
    "**Data Preprocessing:**\n",
    " - Images:\n",
    "     - Subtract the mean image (mean image = [32, 32, 3] array)\n",
    "     - Subtract per-channel mean (mean along each channel = 3 numbers)\n",
    "     - Subtract per-channel mean and divide by per-channel std (mean along each channel = 3 numbers)\n",
    " - Non-image data:\n",
    "     - Zero centering (subtracting a mean)\n",
    "     - Normalizing (Dividing by std)\n",
    "     - PCA\n",
    "     - Data Whitening\n",
    "     \n",
    "**Weight Initialization:**\n",
    "\n",
    " - Rough idea is to use small random numbers (e.g. Gaussian with zero mean, std=0.01) - but it's not good for deeper networks (all activations tend to zero for deeper network layers)\n",
    " - Best use case for ReLU activation function is a \"Kaiming He weight initialization\"\n",
    " - Residual networks can't use a plain version of the Kaiming He w.i., we must modified it a little bit\n",
    " \n",
    "**Learning rate:**\n",
    " - probably the most important hyperparameter that you need to set for most deep learning models\n",
    " \n",
    " - ![Learning rates](..\\reports\\figures\\learning_rates.png)\n",
    " - Learning rate decay - start with large learning rate and decay over time. There are different options:\n",
    "     - Step decay (e.g. multiply LR by 0.1 after epochs 30, 60 and 90.\n",
    "     - Cosine\n",
    "     - Linear\n",
    "     - Inverse Sqrt\n",
    "     - Constant (recommended option; you can try other options if you're really trying to push for the state of the art on some problem)\n",
    " - ![Loss plateaus](..\\reports\\figures\\loss_plateaus.png)    \n",
    " - ![Decaying too early](..\\reports\\figures\\too_early_decay.png)\n",
    " - Last tip for a learning rate is to use the so-called \"Learning rate finder\" function. During one epoch you can try different learning rates (in ascending order, from smaller values to larger) and choose the best one. Next figure is showing this process\n",
    " - ![Learning rate finder](..\\reports\\figures\\learning_rate_finder.png)\n",
    "\n",
    "\n",
    "**Regularization:**\n",
    " - A common pattern is next:\n",
    "     - While training: add some kind of randomness\n",
    "     - While testing: average out randomness (sometimes approximate)\n",
    " - L1 regularization\n",
    " - L2 regularization (a.k.a. weight decay)\n",
    " - Elastic net (L1 + L2)\n",
    " - Batch Normalization\n",
    " \n",
    " - For ResNet and later, often L2 and Batch Normalization are the only regularizers!\n",
    " \n",
    " - Dropout (usually applied in fully-connected layers; slightly less important in modern architectures because they are using global average pooling instead of fully-connected layers)\n",
    " - Data Augmentation:\n",
    "     - horizontal/vertical flip\n",
    "     - random crops and scales\n",
    "     - color jitter\n",
    "     - gaussian noise\n",
    "     - rotation\n",
    "     - translation\n",
    "     - shearing\n",
    "     - stretching\n",
    "     - lens distortions\n",
    "     - conditional GANs\n",
    "     - interpolation (constant, edge, reflect, symmetric, wrap, ...)\n",
    " - Stochastic Depth\n",
    " - DropConnect\n",
    " - Fractional Max Pooling\n",
    " - Cutout\n",
    " - Mixup\n",
    " \n",
    " - Conclusion about regularization:\n",
    "  - consider dropout for large fully-connected layers\n",
    "  - <span style=\"color:Maroon\">batch normalization, weight decay and data augmentation are almost always a good idea</span>\n",
    "  - try cutout and mixup especially for small classification datasets\n",
    "\n",
    " \n",
    "**Optimizers:**\n",
    " - Start with some advanced optimizers like Adam, RMSProp or SGD with Momentum\n",
    " \n",
    "**Loss functions:**\n",
    " - Classification problem:\n",
    "     - Binary:\n",
    "         - <span style=\"color:Maroon\">Binary Cross-Entropy Loss (most used)</span>\n",
    "         - Hinge Loss\n",
    "         - Squared Hinge Loss\n",
    "     - Multi-Class:\n",
    "         - <span style=\"color:Maroon\">Multi-Class Cross-Entropy Loss (most used)</span>\n",
    "         - Sparse Multiclass Cross-Entropy Loss\n",
    "         - Kullback Leibler Divergence Loss\n",
    "         \n",
    "     - Multi-Label:\n",
    "         - Binary Cross-Entropy Loss (specifying the number of target labels there is in the problem as the number of nodes in the output layer; For example, a task that has three output labels (classes) will require a neural network output layer with three nodes in the output layer.)  \n",
    "         \n",
    " - Regression problem:\n",
    "     - <span style=\"color:Maroon\">Mean Squared Error Loss (most used)</span>\n",
    "     - Mean Squared Logarithmic Error Loss\n",
    "     - Mean Absolute Error Loss\n",
    "\n",
    "**Early stopping:**\n",
    " - This can also be a regularization technique but I'll make it as a separate trick for the training process\n",
    " - Stop training the model when accuracy on the validation set decreases (always a good idea to do this)\n",
    " - ![Early stopping](..\\reports\\figures\\early_stopping.png)\n",
    " \n",
    "**Choosing hyperparameters:**\n",
    " - Choose several values for each hyperparameter (often space choices log-linearly)\n",
    " - Grid Search (e.g. Weight decay: [1x10^-4, 1x10^-3, 1x10^-2, 1x10^-1], learning rate: [1x10^-4, 1x10^-3, 1x10^-2, 1x10^-1]; evaluate all possible choices on this hyperparameter grid)\n",
    " - Random Search\n",
    " - Bayesian Optimization\n",
    " \n",
    " \n",
    "**Learning curves:**\n",
    " - ![Desired Learning Curves](..\\reports\\figures\\desired_learning_curves.png)\n",
    " - ![Overfitting](..\\reports\\figures\\overfitting.png)\n",
    " - ![Underfitting](..\\reports\\figures\\underfitting.png)\n",
    " - One note for the last one, where the model is underfitting. For many tasks we know in advance what accuracy is acceptable. If our train & valid accuracy are relatively low in comparison to this acceptable/desired accuracy, our model is underfitting.\n",
    " - ![Bad initialization](..\\reports\\figures\\bad_initialization.png)\n",
    " \n",
    "**Another option for choosing hyperparameters**:\n",
    " - Step 1: Check initial loss (turn off weight decay, sanity check loss at initialization, e.g. log(C) or -log(1/C) for softmax with C classes)\n",
    " - Step 2: Overfit a small sample (try to train to 100% training accuracy on small sample of training data (~5-10 minibatches); fiddle with architecture, learning rate, weight initialization. Turn off regularization. Loss not going down? LR too low, bad initialization. Loss explodes to Inf or NaN? LR too high, bad initialization\n",
    " - Step 3: Find LR that makes loss go down (use architecture from the previous step, use all training data, turn on small weight decay, find a learning rate that makes the loss drop significantly within ~100 iterations; good LRs to try: 1e-1, 1e-2, 1e-3, 1e-4)\n",
    " - Step 4: Coarse grid, train for ~1-5 epochs (choose a few values of the learning rate and weight decay around what worked from Step 3, train a few models fro ~1-5 epochs; good weight decay to try: 1e-4, 1e-5, 0)\n",
    " - Step 5: Refine grid, traing longer (pick best models from Step 4, train them for longer (~10-20 epochs) without learning rate decay\n",
    " - Step 6: Look at learning curves\n",
    " - Step 7: GOTO step 5\n",
    " \n",
    "**Last tips:**\n",
    " - Set up some kind of a cross-validation \"command center\" with e.g. TensorBoard\n",
    " - Track ratio of weight update and weight magnitude (weight_update / weight_magnitude). Want this to be somewhere around .001 or so"
   ]
  },
  {
   "cell_type": "code",
   "execution_count": null,
   "id": "221311c6",
   "metadata": {},
   "outputs": [],
   "source": []
  },
  {
   "cell_type": "code",
   "execution_count": 14,
   "id": "a0046876",
   "metadata": {},
   "outputs": [],
   "source": [
    "class FCFFM(nn.Module):\n",
    "    def __init__(self, n_features, n_outputs):\n",
    "        super().__init__()\n",
    "        \n",
    "        self.n_features = n_features\n",
    "        self.n_outputs = n_outputs\n",
    "        \n",
    "        self.units_by_layer = [self.n_features, self.n_outputs]\n",
    "        \n",
    "        for i in range(1, 4):\n",
    "            self.n_features = math.floor(self.n_features / 2)\n",
    "            self.units_by_layer.insert(i, self.n_features)\n",
    "        \n",
    "        self.layers = nn.Sequential(\n",
    "            nn.Flatten(),\n",
    "            nn.Linear(self.units_by_layer[0], self.units_by_layer[1]),\n",
    "            nn.LeakyReLU(),\n",
    "            nn.Linear(self.units_by_layer[1], self.units_by_layer[2]),\n",
    "            nn.LeakyReLU(),\n",
    "            nn.Linear(self.units_by_layer[2], self.units_by_layer[3]),\n",
    "            nn.LeakyReLU(),\n",
    "            nn.Linear(self.units_by_layer[3], self.units_by_layer[4])\n",
    "            )\n",
    "        \n",
    "    def forward(self, t):\n",
    "        \n",
    "        return self.layers(t)"
   ]
  },
  {
   "cell_type": "markdown",
   "id": "66f8ddc2",
   "metadata": {},
   "source": [
    "We've created a 4-layer fully-connected feedforward model/neural network"
   ]
  },
  {
   "cell_type": "code",
   "execution_count": 15,
   "id": "dc2779f2",
   "metadata": {},
   "outputs": [],
   "source": [
    "def create_sequential_model(n_features, n_layers, n_outputs):\n",
    "    \n",
    "    layers = []\n",
    "    \n",
    "    for i in range(n_layers):\n",
    "        if i == 0:\n",
    "            n_nodes = math.floor(n_features / 2)\n",
    "            layers.extend((nn.Flatten(), nn.Linear(n_features, n_nodes), nn.LeakyReLU()))\n",
    "        elif i == n_layers - 1:\n",
    "            layers.append(nn.Linear(n_nodes, n_outputs))\n",
    "        else:\n",
    "            n_features = math.floor(n_nodes / 2)\n",
    "            layers.extend((nn.Linear(n_nodes, n_features), nn.LeakyReLU()))\n",
    "            n_nodes = n_features\n",
    "    \n",
    "    return nn.Sequential(*layers).to(device)"
   ]
  },
  {
   "cell_type": "markdown",
   "id": "28734305",
   "metadata": {},
   "source": [
    "Another way (only with the nn.sequential class) to create the same model but without the need to build an explicit class"
   ]
  },
  {
   "cell_type": "code",
   "execution_count": 55,
   "id": "bc5b4fbd",
   "metadata": {},
   "outputs": [],
   "source": [
    "cnn = nn.Sequential(\n",
    "    nn.Conv2d(in_channels=1, out_channels=32, kernel_size=5, stride=1, padding=(3, 3)),\n",
    "    nn.MaxPool2d(kernel_size=3, stride=2, padding=(1, 1)),\n",
    "    nn.ReLU(),\n",
    "    nn.BatchNorm2d(32),\n",
    "    nn.Conv2d(32, 32, kernel_size=1, stride=1),\n",
    "    nn.ReLU(),\n",
    "    nn.Conv2d(32, 64, kernel_size=3, stride=1, padding=(1, 1)),\n",
    "    nn.MaxPool2d(kernel_size=3, stride=2, padding=(1, 1)),\n",
    "    nn.ReLU(),\n",
    "    nn.BatchNorm2d(64),\n",
    "    nn.Conv2d(64, 128, kernel_size=3, stride=1, padding=(1, 1)),\n",
    "    nn.ReLU(),\n",
    "    nn.AdaptiveAvgPool2d(1), #Global Average Pooling\n",
    "    nn.Flatten(),\n",
    "    nn.Linear(128, 10)\n",
    ").to(device)"
   ]
  },
  {
   "cell_type": "markdown",
   "id": "3054910a",
   "metadata": {},
   "source": [
    "Simple CNN"
   ]
  },
  {
   "cell_type": "code",
   "execution_count": 56,
   "id": "8cfd7072",
   "metadata": {},
   "outputs": [],
   "source": [
    "image, _ = train_set[0]\n",
    "\n",
    "n_features = image.numel()\n",
    "\n",
    "n_outputs = len(train_set.classes)\n",
    "\n",
    "model = FCFFM(n_features, n_outputs).to(device)\n",
    "\n",
    "#n_layers = 4\n",
    "#seq_model = create_sequential_model(n_features, n_layers, n_outputs)\n",
    "\n",
    "optimizer = optim.Adam(cnn.parameters())\n",
    "\n",
    "n_epochs = 20\n",
    "\n",
    "train_set_len = len(train_set)"
   ]
  },
  {
   "cell_type": "markdown",
   "id": "e97ba032",
   "metadata": {},
   "source": [
    "There are 3 different models that you can try (model, seq_model & cnn)"
   ]
  },
  {
   "cell_type": "code",
   "execution_count": 51,
   "id": "887eb21a",
   "metadata": {},
   "outputs": [],
   "source": [
    "def find_optimal_learning_rate(model, tr_load_len, optimizer, init_value=1e-8, final_value=10., beta=.98):\n",
    "    potential_lrs = np.geomspace(init_value, final_value, tr_load_len)    \n",
    "    avg_loss = 0.\n",
    "    best_loss = 0.\n",
    "    batch_num = 0\n",
    "    losses = []\n",
    "    log_lrs = []\n",
    "    \n",
    "    for batch in train_loader:\n",
    "        lr = potential_lrs[batch_num]\n",
    "        optimizer.param_groups[0][\"lr\"] = lr\n",
    "        batch_num += 1\n",
    "        images, targets = batch\n",
    "        images = images.to(device)\n",
    "        targets = targets.to(device)\n",
    "        \n",
    "        preds = model(images)\n",
    "        loss = F.cross_entropy(preds, targets)\n",
    "        \n",
    "        avg_loss = beta * avg_loss + (1 - beta) * loss.item()\n",
    "        smoothed_loss = avg_loss / (1 - beta**batch_num)\n",
    "        \n",
    "        if (smoothed_loss > 4 * best_loss) and batch_num > 1:\n",
    "            return log_lrs, losses\n",
    "        \n",
    "        if smoothed_loss < best_loss or batch_num==1:\n",
    "            best_loss = smoothed_loss\n",
    "        \n",
    "        losses.append(smoothed_loss)\n",
    "        log_lrs.append(math.log10(lr))\n",
    "        \n",
    "        optimizer.zero_grad()\n",
    "        loss.backward()\n",
    "        optimizer.step()\n",
    "    \n",
    "    return log_lrs, losses"
   ]
  },
  {
   "cell_type": "markdown",
   "id": "aa5afa1c",
   "metadata": {},
   "source": [
    "Previously mentioned learning rate finder."
   ]
  },
  {
   "cell_type": "code",
   "execution_count": 52,
   "id": "8b9449c0",
   "metadata": {},
   "outputs": [],
   "source": [
    "tr_load_len = len(train_loader)\n",
    "log_lrs, losses = find_optimal_learning_rate(cnn, tr_load_len, optimizer)"
   ]
  },
  {
   "cell_type": "code",
   "execution_count": 53,
   "id": "4da95758",
   "metadata": {},
   "outputs": [
    {
     "data": {
      "image/png": "[encoded data removed]",
      "text/plain": [
       "<Figure size 432x288 with 1 Axes>"
      ]
     },
     "metadata": {
      "needs_background": "light"
     },
     "output_type": "display_data"
    }
   ],
   "source": [
    "plt.plot(log_lrs, losses)\n",
    "plt.xlabel(\"learning rate (log10 scale)\")\n",
    "plt.ylabel(\"loss\")\n",
    "plt.show()"
   ]
  },
  {
   "cell_type": "markdown",
   "id": "f45e1a6b",
   "metadata": {},
   "source": [
    "Looking to this plot above, the best value for a learning rate would be something between 5e-4 and 3e-3 (e.g. 5e-4, 7e-4, 9e-4, 1e-3, 3e-3)"
   ]
  },
  {
   "cell_type": "code",
   "execution_count": 64,
   "id": "6c10c4c0",
   "metadata": {},
   "outputs": [
    {
     "data": {
      "text/plain": [
       "Adam (\n",
       "Parameter Group 0\n",
       "    amsgrad: False\n",
       "    betas: (0.9, 0.999)\n",
       "    eps: 1e-08\n",
       "    lr: 0.001\n",
       "    weight_decay: 0\n",
       ")"
      ]
     },
     "execution_count": 64,
     "metadata": {},
     "output_type": "execute_result"
    }
   ],
   "source": [
    "optimizer"
   ]
  },
  {
   "cell_type": "code",
   "execution_count": 26,
   "id": "04b0860e",
   "metadata": {},
   "outputs": [],
   "source": [
    "#optimizer.param_groups[0][\"lr\"] = 3e-3"
   ]
  },
  {
   "cell_type": "markdown",
   "id": "973889ce",
   "metadata": {},
   "source": [
    "Before we start with the training process we must reinitialize the CNNs weights. They are disrupted with high value of the learning rate in our one-epoch training process within the \"find_optimal_learning_rate\" function"
   ]
  },
  {
   "cell_type": "code",
   "execution_count": 58,
   "id": "d6b49862",
   "metadata": {},
   "outputs": [],
   "source": [
    "def train_and_validate(model, train_loader, valid_loader, optimizer, train_set_len, n_epochs):\n",
    "    \n",
    "    mean_train_losses_list = []\n",
    "    train_accs_list = []\n",
    "    valid_accs_list = []\n",
    "    \n",
    "    for e in range(1, n_epochs + 1):\n",
    "    \n",
    "        total_train_loss = 0\n",
    "\n",
    "        for batch in train_loader:\n",
    "            images, targets = batch\n",
    "\n",
    "            images = images.to(device)\n",
    "            targets = targets.to(device)\n",
    "\n",
    "            preds = model(images)\n",
    "            loss = F.cross_entropy(preds, targets, reduction=\"sum\")\n",
    "            \n",
    "            train_acc = (preds.argmax(dim=1) == targets).sum().item() / len(targets)\n",
    "            \n",
    "            optimizer.zero_grad()\n",
    "\n",
    "            loss.backward()\n",
    "            optimizer.step()\n",
    "\n",
    "            total_train_loss += loss.item()\n",
    "        \n",
    "        mean_train_loss = total_train_loss / train_set_len\n",
    "        \n",
    "        mean_train_losses_list.append(mean_train_loss)\n",
    "        train_accs_list.append(train_acc)\n",
    "        \n",
    "        model.eval()\n",
    "        with torch.no_grad():\n",
    "            valid_images, valid_targets = next(iter(valid_loader))\n",
    "\n",
    "            valid_images = valid_images.to(device)\n",
    "            valid_targets = valid_targets.to(device)\n",
    "\n",
    "            valid_unnorm_preds = model(valid_images)\n",
    "            \n",
    "            valid_acc = (valid_unnorm_preds.argmax(dim=1) == valid_targets).sum().item() / len(valid_targets)\n",
    "        \n",
    "        valid_accs_list.append(valid_acc)\n",
    "        \n",
    "        model.train()\n",
    "\n",
    "        print(f\"epoch: {e}, mean train loss: {mean_train_loss}, train acc: {train_acc}, valid acc: {valid_acc}\")\n",
    "    \n",
    "    return mean_train_losses_list, train_accs_list, valid_accs_list"
   ]
  },
  {
   "cell_type": "code",
   "execution_count": 59,
   "id": "58993b4a",
   "metadata": {},
   "outputs": [
    {
     "name": "stdout",
     "output_type": "stream",
     "text": [
      "epoch: 1, mean train loss: 0.39637642410596213, train acc: 0.859375, valid acc: 0.8603333333333333\n",
      "epoch: 2, mean train loss: 0.24622177341779072, train acc: 0.875, valid acc: 0.8415\n",
      "epoch: 3, mean train loss: 0.21652299579779308, train acc: 0.90625, valid acc: 0.9044166666666666\n",
      "epoch: 4, mean train loss: 0.19639174331029255, train acc: 0.875, valid acc: 0.8913333333333333\n",
      "epoch: 5, mean train loss: 0.18256976453463236, train acc: 0.90625, valid acc: 0.8701666666666666\n",
      "epoch: 6, mean train loss: 0.1702299985488256, train acc: 0.953125, valid acc: 0.8964166666666666\n",
      "epoch: 7, mean train loss: 0.1623395593682925, train acc: 0.859375, valid acc: 0.8925\n",
      "epoch: 8, mean train loss: 0.1521442067305247, train acc: 0.859375, valid acc: 0.9074166666666666\n",
      "epoch: 9, mean train loss: 0.1449883909225464, train acc: 0.96875, valid acc: 0.914\n",
      "epoch: 10, mean train loss: 0.13707598915100097, train acc: 0.9375, valid acc: 0.9163333333333333\n",
      "epoch: 11, mean train loss: 0.13009456833998362, train acc: 0.9375, valid acc: 0.914\n",
      "epoch: 12, mean train loss: 0.1229020943681399, train acc: 0.953125, valid acc: 0.9080833333333334\n",
      "epoch: 13, mean train loss: 0.11743427849610646, train acc: 0.9375, valid acc: 0.9171666666666667\n",
      "epoch: 14, mean train loss: 0.10979654085834821, train acc: 0.96875, valid acc: 0.9186666666666666\n",
      "epoch: 15, mean train loss: 0.10540788321296374, train acc: 1.0, valid acc: 0.9055\n",
      "epoch: 16, mean train loss: 0.09981962082982063, train acc: 0.9375, valid acc: 0.8914166666666666\n",
      "epoch: 17, mean train loss: 0.09473089522123337, train acc: 0.953125, valid acc: 0.9163333333333333\n",
      "epoch: 18, mean train loss: 0.0899716863532861, train acc: 0.96875, valid acc: 0.9108333333333334\n",
      "epoch: 19, mean train loss: 0.08534287702739239, train acc: 1.0, valid acc: 0.9075833333333333\n",
      "epoch: 20, mean train loss: 0.07943385925590991, train acc: 0.9375, valid acc: 0.9161666666666667\n"
     ]
    }
   ],
   "source": [
    "train_loss, train_acc, valid_acc = train_and_validate(cnn, train_loader, valid_loader, optimizer, train_set_len, n_epochs)"
   ]
  },
  {
   "cell_type": "code",
   "execution_count": 60,
   "id": "18a6b4f0",
   "metadata": {
    "scrolled": true
   },
   "outputs": [
    {
     "data": {
      "image/png": "[encoded data removed]",
      "text/plain": [
       "<Figure size 432x288 with 1 Axes>"
      ]
     },
     "metadata": {
      "needs_background": "light"
     },
     "output_type": "display_data"
    }
   ],
   "source": [
    "plt.plot(range(1, n_epochs + 1), train_loss)\n",
    "plt.show()"
   ]
  },
  {
   "cell_type": "code",
   "execution_count": 61,
   "id": "492d60a7",
   "metadata": {},
   "outputs": [],
   "source": [
    "df = pd.DataFrame({\"train_acc\": train_acc})"
   ]
  },
  {
   "cell_type": "code",
   "execution_count": 62,
   "id": "0b63ccd1",
   "metadata": {},
   "outputs": [
    {
     "data": {
      "image/png": "[encoded data removed]",
      "text/plain": [
       "<Figure size 432x288 with 1 Axes>"
      ]
     },
     "metadata": {
      "needs_background": "light"
     },
     "output_type": "display_data"
    }
   ],
   "source": [
    "#For a larger number of epochs you can better see a smoothing effect of the exponentially weighted moving average\n",
    "plt.plot(range(1, n_epochs + 1), df[\"train_acc\"].ewm(span=5).mean(), label=\"train_acc_ewma\")\n",
    "plt.plot(range(1, n_epochs + 1), valid_acc, label=\"valid acc\")\n",
    "plt.legend()\n",
    "plt.show()"
   ]
  },
  {
   "cell_type": "code",
   "execution_count": 44,
   "id": "495521ed",
   "metadata": {},
   "outputs": [
    {
     "name": "stderr",
     "output_type": "stream",
     "text": [
      "<ipython-input-44-0cd7d3af20a0>:8: MatplotlibDeprecationWarning: Passing non-integers as three-element position specification is deprecated since 3.3 and will be removed two minor releases later.\n",
      "  axes.append(fig.add_subplot(math.sqrt(n_neurons), math.sqrt(n_neurons), i+1))\n"
     ]
    },
    {
     "data": {
      "image/png": "[encoded data removed]",
      "text/plain": [
       "<Figure size 864x864 with 9 Axes>"
      ]
     },
     "metadata": {
      "needs_background": "light"
     },
     "output_type": "display_data"
    }
   ],
   "source": [
    "n_neurons = 9\n",
    "random_neurons = np.random.randint(1, math.floor(n_features / 2), size=n_neurons)\n",
    "axes = []\n",
    "fig = plt.figure(figsize=(12, 12))\n",
    "\n",
    "for i, n in enumerate(random_neurons):\n",
    "    weights = model.layers[1].weight[n, :].view(28, 28).cpu().detach().numpy()\n",
    "    axes.append(fig.add_subplot(math.sqrt(n_neurons), math.sqrt(n_neurons), i+1))\n",
    "    subplot_title=(f\"Weights of {n}. neuron in 1. hidden layer\")\n",
    "    axes[-1].set_title(subplot_title)  \n",
    "    plt.imshow(weights, cmap=\"gray\")\n",
    "    \n",
    "fig.tight_layout()    \n",
    "plt.show()"
   ]
  },
  {
   "cell_type": "markdown",
   "id": "a5816670",
   "metadata": {},
   "source": [
    "Visualizing the weights of 9 random neurons in the first layer of our FCFFM."
   ]
  },
  {
   "cell_type": "code",
   "execution_count": 68,
   "id": "54d384bf",
   "metadata": {},
   "outputs": [
    {
     "name": "stderr",
     "output_type": "stream",
     "text": [
      "<ipython-input-68-880fabf825d0>:8: MatplotlibDeprecationWarning: Passing non-integers as three-element position specification is deprecated since 3.3 and will be removed two minor releases later.\n",
      "  axes.append(fig.add_subplot(math.sqrt(n_filters), math.sqrt(n_filters), i+1))\n"
     ]
    },
    {
     "data": {
      "image/png": "[encoded data removed]",
      "text/plain": [
       "<Figure size 792x792 with 9 Axes>"
      ]
     },
     "metadata": {
      "needs_background": "light"
     },
     "output_type": "display_data"
    }
   ],
   "source": [
    "n_filters = 9\n",
    "random_filters = np.random.randint(1, cnn[0].weight.shape[0], size=n_filters)\n",
    "axes = []\n",
    "fig = plt.figure(figsize=(11, 11))\n",
    "\n",
    "for i, n in enumerate(random_filters):\n",
    "    filter = cnn[0].weight[n].squeeze().cpu().detach().numpy()\n",
    "    axes.append(fig.add_subplot(math.sqrt(n_filters), math.sqrt(n_filters), i+1))\n",
    "    subplot_title=(f\"{n}. filter in the first convolutional layer\")\n",
    "    axes[-1].set_title(subplot_title)  \n",
    "    plt.imshow(filter, cmap=\"gray\")\n",
    "    \n",
    "fig.tight_layout()    \n",
    "plt.show()"
   ]
  },
  {
   "cell_type": "markdown",
   "id": "df47dabc",
   "metadata": {},
   "source": [
    "Visualizing the first layer filters of our CNN"
   ]
  },
  {
   "cell_type": "code",
   "execution_count": 36,
   "id": "7d1cdbfb",
   "metadata": {},
   "outputs": [],
   "source": [
    "test_loader = torch.utils.data.DataLoader(\n",
    "    test_set, batch_size=len(test_set)\n",
    ")"
   ]
  },
  {
   "cell_type": "markdown",
   "id": "26f3f688",
   "metadata": {},
   "source": [
    "Creating the test set data loader"
   ]
  },
  {
   "cell_type": "code",
   "execution_count": 37,
   "id": "6c3ae4f4",
   "metadata": {},
   "outputs": [],
   "source": [
    "def test(model, test_loader):\n",
    "    \n",
    "    model.eval()\n",
    "    with torch.no_grad():\n",
    "        test_images, test_targets = next(iter(test_loader))\n",
    "\n",
    "        test_images = test_images.to(device)\n",
    "        test_targets = test_targets.to(device)\n",
    "\n",
    "        test_unnorm_preds = model(test_images)\n",
    "\n",
    "        test_acc = (test_unnorm_preds.argmax(dim=1) == test_targets).sum() / len(test_targets)\n",
    "        \n",
    "        print(f\"test acc: {test_acc}\")"
   ]
  },
  {
   "cell_type": "code",
   "execution_count": 38,
   "id": "00742f6b",
   "metadata": {},
   "outputs": [
    {
     "name": "stdout",
     "output_type": "stream",
     "text": [
      "test acc: 0.909500002861023\n"
     ]
    }
   ],
   "source": [
    "test(cnn, test_loader)"
   ]
  },
  {
   "cell_type": "markdown",
   "id": "0832428e",
   "metadata": {},
   "source": [
    "When you finish with a process of fine-tuning, i.e. when you have a descent validation score/accuracy, it's time to calculate the test set accuracy which is the most important accuracy. You should run this command only once and record your accuracy. That's the end, you can't fine-tune your model anymore."
   ]
  },
  {
   "cell_type": "code",
   "execution_count": null,
   "id": "46be46b9",
   "metadata": {},
   "outputs": [],
   "source": [
    "torch.save(model.state_dict(), \"fashion_mnist_fcffm.pt\") #or \"fashion_mnist_cnn.pt\"\n",
    "#model.load_state_dict(torch.load(\"fashion_mnist_fcffm.pt\"))"
   ]
  },
  {
   "cell_type": "markdown",
   "id": "d15a1502",
   "metadata": {},
   "source": [
    "Commands for saving and restoring model weights"
   ]
  }
 ],
 "metadata": {
  "kernelspec": {
   "display_name": "Python 3",
   "language": "python",
   "name": "python3"
  },
  "language_info": {
   "codemirror_mode": {
    "name": "ipython",
    "version": 3
   },
   "file_extension": ".py",
   "mimetype": "text/x-python",
   "name": "python",
   "nbconvert_exporter": "python",
   "pygments_lexer": "ipython3",
   "version": "3.9.4"
  }
 },
 "nbformat": 4,
 "nbformat_minor": 5
}
