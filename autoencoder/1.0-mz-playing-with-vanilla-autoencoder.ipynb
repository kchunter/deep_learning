{
 "cells": [
  {
   "cell_type": "code",
   "execution_count": 42,
   "id": "37cea50e",
   "metadata": {},
   "outputs": [],
   "source": [
    "import torch\n",
    "import torch.nn as nn\n",
    "import torch.nn.functional as F\n",
    "import torch.optim as optim\n",
    "import torchvision\n",
    "import torchvision.transforms as transforms\n",
    "\n",
    "import numpy as np\n",
    "import matplotlib.pyplot as plt\n",
    "from sklearn.manifold import TSNE"
   ]
  },
  {
   "cell_type": "code",
   "execution_count": 40,
   "id": "c3d1cfa1",
   "metadata": {},
   "outputs": [
    {
     "data": {
      "text/plain": [
       "<torch._C.Generator at 0x22c0de91bb0>"
      ]
     },
     "execution_count": 40,
     "metadata": {},
     "output_type": "execute_result"
    }
   ],
   "source": [
    "torch.manual_seed(42)"
   ]
  },
  {
   "cell_type": "code",
   "execution_count": 3,
   "id": "130ca3de",
   "metadata": {
    "collapsed": true
   },
   "outputs": [
    {
     "name": "stdout",
     "output_type": "stream",
     "text": [
      "Downloading http://yann.lecun.com/exdb/mnist/train-images-idx3-ubyte.gz\n",
      "Downloading http://yann.lecun.com/exdb/mnist/train-images-idx3-ubyte.gz to ../data/raw/MNIST\\raw\\train-images-idx3-ubyte.gz\n",
      "Failed to download (trying next):\n",
      "HTTP Error 503: Service Unavailable\n",
      "\n",
      "Downloading https://ossci-datasets.s3.amazonaws.com/mnist/train-images-idx3-ubyte.gz\n",
      "Downloading https://ossci-datasets.s3.amazonaws.com/mnist/train-images-idx3-ubyte.gz to ../data/raw/MNIST\\raw\\train-images-idx3-ubyte.gz\n"
     ]
    },
    {
     "name": "stderr",
     "output_type": "stream",
     "text": [
      "77.5%IOPub message rate exceeded.\n",
      "The notebook server will temporarily stop sending output\n",
      "to the client in order to avoid crashing it.\n",
      "To change this limit, set the config variable\n",
      "`--NotebookApp.iopub_msg_rate_limit`.\n",
      "\n",
      "Current values:\n",
      "NotebookApp.iopub_msg_rate_limit=1000.0 (msgs/sec)\n",
      "NotebookApp.rate_limit_window=3.0 (secs)\n",
      "\n",
      "100.0%\n"
     ]
    },
    {
     "name": "stdout",
     "output_type": "stream",
     "text": [
      "Extracting ../data/raw/MNIST\\raw\\train-images-idx3-ubyte.gz to ../data/raw/MNIST\\raw\n",
      "\n",
      "Downloading http://yann.lecun.com/exdb/mnist/train-labels-idx1-ubyte.gz\n",
      "Downloading http://yann.lecun.com/exdb/mnist/train-labels-idx1-ubyte.gz to ../data/raw/MNIST\\raw\\train-labels-idx1-ubyte.gz\n"
     ]
    },
    {
     "name": "stderr",
     "output_type": "stream",
     "text": [
      "102.8%\n"
     ]
    },
    {
     "name": "stdout",
     "output_type": "stream",
     "text": [
      "Extracting ../data/raw/MNIST\\raw\\train-labels-idx1-ubyte.gz to ../data/raw/MNIST\\raw\n",
      "\n",
      "Downloading http://yann.lecun.com/exdb/mnist/t10k-images-idx3-ubyte.gz\n",
      "Downloading http://yann.lecun.com/exdb/mnist/t10k-images-idx3-ubyte.gz to ../data/raw/MNIST\\raw\\t10k-images-idx3-ubyte.gz\n",
      "Failed to download (trying next):\n",
      "HTTP Error 503: Service Unavailable\n",
      "\n",
      "Downloading https://ossci-datasets.s3.amazonaws.com/mnist/t10k-images-idx3-ubyte.gz\n",
      "Downloading https://ossci-datasets.s3.amazonaws.com/mnist/t10k-images-idx3-ubyte.gz to ../data/raw/MNIST\\raw\\t10k-images-idx3-ubyte.gz\n"
     ]
    },
    {
     "name": "stderr",
     "output_type": "stream",
     "text": [
      "100.0%\n"
     ]
    },
    {
     "name": "stdout",
     "output_type": "stream",
     "text": [
      "Extracting ../data/raw/MNIST\\raw\\t10k-images-idx3-ubyte.gz to ../data/raw/MNIST\\raw\n",
      "\n",
      "Downloading http://yann.lecun.com/exdb/mnist/t10k-labels-idx1-ubyte.gz\n",
      "Failed to download (trying next):\n",
      "HTTP Error 503: Service Unavailable\n",
      "\n",
      "Downloading https://ossci-datasets.s3.amazonaws.com/mnist/t10k-labels-idx1-ubyte.gz\n",
      "Downloading https://ossci-datasets.s3.amazonaws.com/mnist/t10k-labels-idx1-ubyte.gz to ../data/raw/MNIST\\raw\\t10k-labels-idx1-ubyte.gz\n"
     ]
    },
    {
     "name": "stderr",
     "output_type": "stream",
     "text": [
      "112.7%\n",
      "c:\\users\\matija\\desktop\\main\\ai\\development\\dev\\lib\\site-packages\\torchvision\\datasets\\mnist.py:502: UserWarning: The given NumPy array is not writeable, and PyTorch does not support non-writeable tensors. This means you can write to the underlying (supposedly non-writeable) NumPy array using the tensor. You may want to copy the array to protect its data or make it writeable before converting it to a tensor. This type of warning will be suppressed for the rest of this program. (Triggered internally at  ..\\torch\\csrc\\utils\\tensor_numpy.cpp:143.)\n",
      "  return torch.from_numpy(parsed.astype(m[2], copy=False)).view(*s)\n"
     ]
    },
    {
     "name": "stdout",
     "output_type": "stream",
     "text": [
      "Extracting ../data/raw/MNIST\\raw\\t10k-labels-idx1-ubyte.gz to ../data/raw/MNIST\\raw\n",
      "\n",
      "Processing...\n",
      "Done!\n"
     ]
    }
   ],
   "source": [
    "train_set = torchvision.datasets.MNIST(\n",
    "    root=\"../data/raw/\",\n",
    "    train=True,\n",
    "    download=True,\n",
    "    transform=transforms.Compose([\n",
    "        transforms.ToTensor()\n",
    "    ])\n",
    ")"
   ]
  },
  {
   "cell_type": "code",
   "execution_count": 16,
   "id": "0ede949a",
   "metadata": {},
   "outputs": [
    {
     "name": "stdout",
     "output_type": "stream",
     "text": [
      " Volume in drive C has no label.\n",
      " Volume Serial Number is C848-4D31\n",
      "\n",
      " Directory of C:\\Users\\Matija\\Desktop\\main\\ai\\development\\autoencoder\\data\\raw\\MNIST\\processed\n",
      "\n",
      "06/07/2021  08:22 PM    <DIR>          .\n",
      "06/07/2021  08:22 PM    <DIR>          ..\n",
      "06/07/2021  08:22 PM         7,921,087 test.pt\n",
      "06/07/2021  08:22 PM        47,521,087 training.pt\n",
      "               2 File(s)     55,442,174 bytes\n",
      "               2 Dir(s)  20,582,006,784 bytes free\n"
     ]
    }
   ],
   "source": [
    "ls \"../data/raw/MNIST/processed/\""
   ]
  },
  {
   "cell_type": "code",
   "execution_count": 25,
   "id": "c169fc2f",
   "metadata": {},
   "outputs": [
    {
     "data": {
      "text/plain": [
       "60000"
      ]
     },
     "execution_count": 25,
     "metadata": {},
     "output_type": "execute_result"
    }
   ],
   "source": [
    "train_len = len(train_set)\n",
    "train_len"
   ]
  },
  {
   "cell_type": "code",
   "execution_count": 26,
   "id": "4a5273b5",
   "metadata": {},
   "outputs": [],
   "source": [
    "train_loader = torch.utils.data.DataLoader(train_set, batch_size=train_len)"
   ]
  },
  {
   "cell_type": "code",
   "execution_count": 27,
   "id": "edd11fb0",
   "metadata": {},
   "outputs": [],
   "source": [
    "images, targets = next(iter(train_loader))"
   ]
  },
  {
   "cell_type": "code",
   "execution_count": 28,
   "id": "1e584f98",
   "metadata": {},
   "outputs": [
    {
     "data": {
      "text/plain": [
       "torch.Size([60000, 1, 28, 28])"
      ]
     },
     "execution_count": 28,
     "metadata": {},
     "output_type": "execute_result"
    }
   ],
   "source": [
    "images.shape"
   ]
  },
  {
   "cell_type": "code",
   "execution_count": 29,
   "id": "73148a1d",
   "metadata": {},
   "outputs": [],
   "source": [
    "images = torch.flatten(images, start_dim=1)"
   ]
  },
  {
   "cell_type": "code",
   "execution_count": 30,
   "id": "ad8a8812",
   "metadata": {},
   "outputs": [
    {
     "data": {
      "text/plain": [
       "torch.Size([60000, 784])"
      ]
     },
     "execution_count": 30,
     "metadata": {},
     "output_type": "execute_result"
    }
   ],
   "source": [
    "images.shape"
   ]
  },
  {
   "cell_type": "code",
   "execution_count": 31,
   "id": "914e9a49",
   "metadata": {},
   "outputs": [
    {
     "data": {
      "text/plain": [
       "(60000, 2)"
      ]
     },
     "execution_count": 31,
     "metadata": {},
     "output_type": "execute_result"
    }
   ],
   "source": [
    "images_embedded = TSNE().fit_transform(images)\n",
    "images_embedded.shape"
   ]
  },
  {
   "cell_type": "code",
   "execution_count": 38,
   "id": "46402e26",
   "metadata": {},
   "outputs": [
    {
     "data": {
      "image/png": "[encoded data removed]",
      "text/plain": [
       "<Figure size 432x288 with 1 Axes>"
      ]
     },
     "metadata": {
      "needs_background": "light"
     },
     "output_type": "display_data"
    }
   ],
   "source": [
    "colormap = np.array([\"r\", \"g\", \"b\", \"c\", \"m\", \"y\", \"k\", \"#8B4513\", \"#808080\", \"#FFA500\"])\n",
    "plt.scatter(images_embedded[:, 0], images_embedded[:, 1], c=colormap[targets])\n",
    "plt.show()"
   ]
  },
  {
   "cell_type": "code",
   "execution_count": 39,
   "id": "b3288cd2",
   "metadata": {},
   "outputs": [
    {
     "name": "stdout",
     "output_type": "stream",
     "text": [
      "Using GPU: True\n"
     ]
    }
   ],
   "source": [
    "use_cuda = torch.cuda.is_available()\n",
    "device = torch.device(\"cuda\" if use_cuda else \"cpu\")\n",
    "print(f\"Using GPU: {use_cuda}\")"
   ]
  },
  {
   "cell_type": "code",
   "execution_count": 346,
   "id": "228ae0a3",
   "metadata": {},
   "outputs": [],
   "source": [
    "vanilla_ae = nn.Sequential(\n",
    "    nn.Linear(784, 256),\n",
    "    nn.LeakyReLU(),\n",
    "    nn.Linear(256, 100),\n",
    "    nn.LeakyReLU(),\n",
    "    nn.Linear(100, 256),\n",
    "    nn.LeakyReLU(),\n",
    "    nn.Linear(256, 784)\n",
    ").to(device)"
   ]
  },
  {
   "cell_type": "code",
   "execution_count": 347,
   "id": "d3054acf",
   "metadata": {},
   "outputs": [],
   "source": [
    "optimizer = optim.Adam(vanilla_ae.parameters(), lr=.003)\n",
    "n_epochs = 50\n",
    "batch_size = 64\n",
    "new_train_loader = torch.utils.data.DataLoader(train_set, batch_size=batch_size)"
   ]
  },
  {
   "cell_type": "code",
   "execution_count": 348,
   "id": "28d3e064",
   "metadata": {},
   "outputs": [],
   "source": [
    "def train(model, train_loader, optimizer, n_epochs):\n",
    "    \n",
    "    mse = []\n",
    "    \n",
    "    for e in range(1, n_epochs + 1):\n",
    "    \n",
    "        batch_mse = 0\n",
    "\n",
    "        for batch in train_loader:\n",
    "            images, _ = batch\n",
    "\n",
    "            images = torch.flatten(images, start_dim=1).to(device)\n",
    "            preds = model(images)\n",
    "            loss = F.smooth_l1_loss(preds, images, reduction=\"sum\")\n",
    "            \n",
    "            batch_mse+=loss.item()\n",
    "            \n",
    "            optimizer.zero_grad()\n",
    "\n",
    "            loss.backward()\n",
    "            optimizer.step()\n",
    "        \n",
    "        print(f\"epoch: {e}, mse: {batch_mse/60000}\")\n",
    "        \n",
    "        mse.append(batch_mse/60000)\n",
    "    \n",
    "    return mse"
   ]
  },
  {
   "cell_type": "code",
   "execution_count": 349,
   "id": "6b07625c",
   "metadata": {},
   "outputs": [
    {
     "name": "stdout",
     "output_type": "stream",
     "text": [
      "epoch: 1, mse: 7.621076332600912\n",
      "epoch: 2, mse: 4.714933697509766\n",
      "epoch: 3, mse: 4.29766957728068\n",
      "epoch: 4, mse: 4.087732389068604\n",
      "epoch: 5, mse: 3.80785004679362\n",
      "epoch: 6, mse: 3.755888587697347\n",
      "epoch: 7, mse: 3.5857538513183593\n",
      "epoch: 8, mse: 3.7749224581400553\n",
      "epoch: 9, mse: 3.785419337717692\n",
      "epoch: 10, mse: 3.5079765375773113\n",
      "epoch: 11, mse: 3.3265519254048663\n",
      "epoch: 12, mse: 3.3695386423746743\n",
      "epoch: 13, mse: 3.271343696339925\n",
      "epoch: 14, mse: 3.2656503036499025\n",
      "epoch: 15, mse: 3.1979701764424644\n",
      "epoch: 16, mse: 3.0658394182840984\n",
      "epoch: 17, mse: 2.993377722676595\n",
      "epoch: 18, mse: 3.0750054616292317\n",
      "epoch: 19, mse: 2.9714663851420084\n",
      "epoch: 20, mse: 3.076045557657878\n",
      "epoch: 21, mse: 3.0169986757914224\n",
      "epoch: 22, mse: 3.1139502731323243\n",
      "epoch: 23, mse: 2.8921471834818524\n",
      "epoch: 24, mse: 3.088886741892497\n",
      "epoch: 25, mse: 3.0435655166625977\n",
      "epoch: 26, mse: 2.850856916554769\n",
      "epoch: 27, mse: 2.98528202641805\n",
      "epoch: 28, mse: 3.022026111094157\n",
      "epoch: 29, mse: 2.8274156761169436\n",
      "epoch: 30, mse: 3.0198379099527997\n",
      "epoch: 31, mse: 2.8337537091573077\n",
      "epoch: 32, mse: 2.859259659322103\n",
      "epoch: 33, mse: 2.7118899983723956\n",
      "epoch: 34, mse: 2.8102417162577313\n",
      "epoch: 35, mse: 2.696732626215617\n",
      "epoch: 36, mse: 2.638070130411784\n",
      "epoch: 37, mse: 2.7436682951609295\n",
      "epoch: 38, mse: 2.596034719721476\n",
      "epoch: 39, mse: 2.6305612122853597\n",
      "epoch: 40, mse: 2.447960829671224\n",
      "epoch: 41, mse: 2.65970353012085\n",
      "epoch: 42, mse: 2.5373348775227864\n",
      "epoch: 43, mse: 2.5600894636789957\n",
      "epoch: 44, mse: 2.5449964518229167\n",
      "epoch: 45, mse: 2.5608842432657877\n",
      "epoch: 46, mse: 2.474428762435913\n",
      "epoch: 47, mse: 2.32302412147522\n",
      "epoch: 48, mse: 2.770468309656779\n",
      "epoch: 49, mse: 2.415148449198405\n",
      "epoch: 50, mse: 2.4759366269429526\n"
     ]
    }
   ],
   "source": [
    "mse = train(vanilla_ae, new_train_loader, optimizer, n_epochs)"
   ]
  },
  {
   "cell_type": "code",
   "execution_count": 350,
   "id": "30a186ec",
   "metadata": {},
   "outputs": [
    {
     "data": {
      "image/png": "[encoded data removed]",
      "text/plain": [
       "<Figure size 432x288 with 1 Axes>"
      ]
     },
     "metadata": {
      "needs_background": "light"
     },
     "output_type": "display_data"
    }
   ],
   "source": [
    "plt.plot(range(1, n_epochs + 1), mse)\n",
    "plt.xlabel(\"Epochs\")\n",
    "plt.ylabel(\"MSE\")\n",
    "plt.show()"
   ]
  },
  {
   "cell_type": "code",
   "execution_count": 351,
   "id": "1757a63e",
   "metadata": {},
   "outputs": [],
   "source": [
    "idx = np.random.randint(0, 59999)"
   ]
  },
  {
   "cell_type": "code",
   "execution_count": 352,
   "id": "16bf7457",
   "metadata": {},
   "outputs": [],
   "source": [
    "random_image, random_target = train_set[idx]"
   ]
  },
  {
   "cell_type": "code",
   "execution_count": 353,
   "id": "636ee2e8",
   "metadata": {},
   "outputs": [
    {
     "data": {
      "image/png": "[encoded data removed]",
      "text/plain": [
       "<Figure size 432x288 with 1 Axes>"
      ]
     },
     "metadata": {
      "needs_background": "light"
     },
     "output_type": "display_data"
    }
   ],
   "source": [
    "plt.imshow(random_image.squeeze(), cmap=\"gray\")\n",
    "plt.title(random_target)\n",
    "plt.show()"
   ]
  },
  {
   "cell_type": "code",
   "execution_count": 354,
   "id": "ffc1b419",
   "metadata": {},
   "outputs": [],
   "source": [
    "random_image = torch.flatten(random_image, start_dim=1).to(device)"
   ]
  },
  {
   "cell_type": "code",
   "execution_count": 355,
   "id": "593a51c6",
   "metadata": {},
   "outputs": [
    {
     "data": {
      "text/plain": [
       "torch.Size([1, 784])"
      ]
     },
     "execution_count": 355,
     "metadata": {},
     "output_type": "execute_result"
    }
   ],
   "source": [
    "random_image.shape"
   ]
  },
  {
   "cell_type": "code",
   "execution_count": 356,
   "id": "d7700c61",
   "metadata": {},
   "outputs": [],
   "source": [
    "vanilla_ae.eval()\n",
    "with torch.no_grad():\n",
    "    prediction = vanilla_ae(random_image)"
   ]
  },
  {
   "cell_type": "code",
   "execution_count": 357,
   "id": "ebe51a38",
   "metadata": {},
   "outputs": [
    {
     "data": {
      "text/plain": [
       "torch.Size([1, 784])"
      ]
     },
     "execution_count": 357,
     "metadata": {},
     "output_type": "execute_result"
    }
   ],
   "source": [
    "prediction.shape"
   ]
  },
  {
   "cell_type": "code",
   "execution_count": 358,
   "id": "e722632d",
   "metadata": {},
   "outputs": [],
   "source": [
    "recreated_image = torch.reshape(prediction, (1, 28, 28)).detach().cpu()"
   ]
  },
  {
   "cell_type": "code",
   "execution_count": 360,
   "id": "bbebd275",
   "metadata": {},
   "outputs": [
    {
     "data": {
      "image/png": "[encoded data removed]",
      "text/plain": [
       "<Figure size 432x288 with 1 Axes>"
      ]
     },
     "metadata": {
      "needs_background": "light"
     },
     "output_type": "display_data"
    }
   ],
   "source": [
    "plt.imshow(recreated_image.squeeze(), cmap=\"gray\")\n",
    "plt.show()"
   ]
  },
  {
   "cell_type": "code",
   "execution_count": 361,
   "id": "f758bdc2",
   "metadata": {},
   "outputs": [
    {
     "data": {
      "text/plain": [
       "Sequential(\n",
       "  (0): Linear(in_features=784, out_features=256, bias=True)\n",
       "  (1): LeakyReLU(negative_slope=0.01)\n",
       "  (2): Linear(in_features=256, out_features=100, bias=True)\n",
       "  (3): LeakyReLU(negative_slope=0.01)\n",
       ")"
      ]
     },
     "execution_count": 361,
     "metadata": {},
     "output_type": "execute_result"
    }
   ],
   "source": [
    "new_ae = nn.Sequential(*list(vanilla_ae.children())[:-3])\n",
    "new_ae"
   ]
  },
  {
   "cell_type": "code",
   "execution_count": 362,
   "id": "059c10c3",
   "metadata": {},
   "outputs": [],
   "source": [
    "images, _ = next(iter(train_loader))"
   ]
  },
  {
   "cell_type": "code",
   "execution_count": 363,
   "id": "6f4da5c9",
   "metadata": {},
   "outputs": [],
   "source": [
    "images = torch.flatten(images, start_dim=1).to(device)"
   ]
  },
  {
   "cell_type": "code",
   "execution_count": 364,
   "id": "4f8938fd",
   "metadata": {},
   "outputs": [
    {
     "data": {
      "text/plain": [
       "torch.Size([60000, 784])"
      ]
     },
     "execution_count": 364,
     "metadata": {},
     "output_type": "execute_result"
    }
   ],
   "source": [
    "images.shape"
   ]
  },
  {
   "cell_type": "code",
   "execution_count": 365,
   "id": "77c49670",
   "metadata": {},
   "outputs": [],
   "source": [
    "images_in_latent_space = new_ae(images)"
   ]
  },
  {
   "cell_type": "code",
   "execution_count": 366,
   "id": "d2fa9aa7",
   "metadata": {},
   "outputs": [
    {
     "data": {
      "text/plain": [
       "torch.Size([60000, 100])"
      ]
     },
     "execution_count": 366,
     "metadata": {},
     "output_type": "execute_result"
    }
   ],
   "source": [
    "images_in_latent_space.shape"
   ]
  },
  {
   "cell_type": "code",
   "execution_count": 367,
   "id": "769a80a1",
   "metadata": {},
   "outputs": [
    {
     "data": {
      "text/plain": [
       "(60000, 2)"
      ]
     },
     "execution_count": 367,
     "metadata": {},
     "output_type": "execute_result"
    }
   ],
   "source": [
    "images_new_embedded = TSNE().fit_transform(images_in_latent_space.detach().cpu())\n",
    "images_new_embedded.shape"
   ]
  },
  {
   "cell_type": "code",
   "execution_count": 368,
   "id": "06947d84",
   "metadata": {},
   "outputs": [
    {
     "data": {
      "image/png": "[encoded data removed]",
      "text/plain": [
       "<Figure size 432x288 with 1 Axes>"
      ]
     },
     "metadata": {
      "needs_background": "light"
     },
     "output_type": "display_data"
    }
   ],
   "source": [
    "colormap = np.array([\"r\", \"g\", \"b\", \"c\", \"m\", \"y\", \"k\", \"#8B4513\", \"#808080\", \"#FFA500\"])\n",
    "plt.scatter(images_new_embedded[:, 0], images_new_embedded[:, 1], c=colormap[targets])\n",
    "plt.show()"
   ]
  },
  {
   "cell_type": "code",
   "execution_count": 369,
   "id": "f8a73146",
   "metadata": {},
   "outputs": [],
   "source": [
    "torch.save(vanilla_ae.state_dict(), \"../models/vanilla_ae.pt\")"
   ]
  }
 ],
 "metadata": {
  "kernelspec": {
   "display_name": "Python 3",
   "language": "python",
   "name": "python3"
  },
  "language_info": {
   "codemirror_mode": {
    "name": "ipython",
    "version": 3
   },
   "file_extension": ".py",
   "mimetype": "text/x-python",
   "name": "python",
   "nbconvert_exporter": "python",
   "pygments_lexer": "ipython3",
   "version": "3.9.4"
  }
 },
 "nbformat": 4,
 "nbformat_minor": 5
}
