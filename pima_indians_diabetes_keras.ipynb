{
 "cells": [
  {
   "cell_type": "markdown",
   "metadata": {},
   "source": [
    "# 1. EDA & Data Cleansing"
   ]
  },
  {
   "cell_type": "code",
   "execution_count": 104,
   "metadata": {},
   "outputs": [],
   "source": [
    "import pandas as pd\n",
    "import numpy as np\n",
    "import matplotlib.pyplot as plt\n",
    "import seaborn as sns\n",
    "\n",
    "from keras.models import Sequential\n",
    "from keras.layers import Dense\n",
    "from keras.regularizers import l2\n",
    "from sklearn.model_selection import train_test_split\n",
    "from sklearn.preprocessing import MinMaxScaler\n",
    "\n",
    "%matplotlib inline\n",
    "sns.set_style('darkgrid')"
   ]
  },
  {
   "cell_type": "markdown",
   "metadata": {},
   "source": [
    "##### Dataset location: https://raw.githubusercontent.com/jbrownlee/Datasets/master/pima-indians-diabetes.data.csv\n",
    "##### Dataset details:  https://raw.githubusercontent.com/jbrownlee/Datasets/master/pima-indians-diabetes.names"
   ]
  },
  {
   "cell_type": "code",
   "execution_count": 70,
   "metadata": {},
   "outputs": [],
   "source": [
    "df = pd.read_csv(\"pima-indians-diabetes.csv\", header=None)"
   ]
  },
  {
   "cell_type": "code",
   "execution_count": 71,
   "metadata": {},
   "outputs": [
    {
     "data": {
      "text/html": [
       "<div>\n",
       "<style scoped>\n",
       "    .dataframe tbody tr th:only-of-type {\n",
       "        vertical-align: middle;\n",
       "    }\n",
       "\n",
       "    .dataframe tbody tr th {\n",
       "        vertical-align: top;\n",
       "    }\n",
       "\n",
       "    .dataframe thead th {\n",
       "        text-align: right;\n",
       "    }\n",
       "</style>\n",
       "<table border=\"1\" class=\"dataframe\">\n",
       "  <thead>\n",
       "    <tr style=\"text-align: right;\">\n",
       "      <th></th>\n",
       "      <th>0</th>\n",
       "      <th>1</th>\n",
       "      <th>2</th>\n",
       "      <th>3</th>\n",
       "      <th>4</th>\n",
       "      <th>5</th>\n",
       "      <th>6</th>\n",
       "      <th>7</th>\n",
       "      <th>8</th>\n",
       "    </tr>\n",
       "  </thead>\n",
       "  <tbody>\n",
       "    <tr>\n",
       "      <th>0</th>\n",
       "      <td>6</td>\n",
       "      <td>148</td>\n",
       "      <td>72</td>\n",
       "      <td>35</td>\n",
       "      <td>0</td>\n",
       "      <td>33.6</td>\n",
       "      <td>0.627</td>\n",
       "      <td>50</td>\n",
       "      <td>1</td>\n",
       "    </tr>\n",
       "    <tr>\n",
       "      <th>1</th>\n",
       "      <td>1</td>\n",
       "      <td>85</td>\n",
       "      <td>66</td>\n",
       "      <td>29</td>\n",
       "      <td>0</td>\n",
       "      <td>26.6</td>\n",
       "      <td>0.351</td>\n",
       "      <td>31</td>\n",
       "      <td>0</td>\n",
       "    </tr>\n",
       "    <tr>\n",
       "      <th>2</th>\n",
       "      <td>8</td>\n",
       "      <td>183</td>\n",
       "      <td>64</td>\n",
       "      <td>0</td>\n",
       "      <td>0</td>\n",
       "      <td>23.3</td>\n",
       "      <td>0.672</td>\n",
       "      <td>32</td>\n",
       "      <td>1</td>\n",
       "    </tr>\n",
       "    <tr>\n",
       "      <th>3</th>\n",
       "      <td>1</td>\n",
       "      <td>89</td>\n",
       "      <td>66</td>\n",
       "      <td>23</td>\n",
       "      <td>94</td>\n",
       "      <td>28.1</td>\n",
       "      <td>0.167</td>\n",
       "      <td>21</td>\n",
       "      <td>0</td>\n",
       "    </tr>\n",
       "    <tr>\n",
       "      <th>4</th>\n",
       "      <td>0</td>\n",
       "      <td>137</td>\n",
       "      <td>40</td>\n",
       "      <td>35</td>\n",
       "      <td>168</td>\n",
       "      <td>43.1</td>\n",
       "      <td>2.288</td>\n",
       "      <td>33</td>\n",
       "      <td>1</td>\n",
       "    </tr>\n",
       "    <tr>\n",
       "      <th>...</th>\n",
       "      <td>...</td>\n",
       "      <td>...</td>\n",
       "      <td>...</td>\n",
       "      <td>...</td>\n",
       "      <td>...</td>\n",
       "      <td>...</td>\n",
       "      <td>...</td>\n",
       "      <td>...</td>\n",
       "      <td>...</td>\n",
       "    </tr>\n",
       "    <tr>\n",
       "      <th>763</th>\n",
       "      <td>10</td>\n",
       "      <td>101</td>\n",
       "      <td>76</td>\n",
       "      <td>48</td>\n",
       "      <td>180</td>\n",
       "      <td>32.9</td>\n",
       "      <td>0.171</td>\n",
       "      <td>63</td>\n",
       "      <td>0</td>\n",
       "    </tr>\n",
       "    <tr>\n",
       "      <th>764</th>\n",
       "      <td>2</td>\n",
       "      <td>122</td>\n",
       "      <td>70</td>\n",
       "      <td>27</td>\n",
       "      <td>0</td>\n",
       "      <td>36.8</td>\n",
       "      <td>0.340</td>\n",
       "      <td>27</td>\n",
       "      <td>0</td>\n",
       "    </tr>\n",
       "    <tr>\n",
       "      <th>765</th>\n",
       "      <td>5</td>\n",
       "      <td>121</td>\n",
       "      <td>72</td>\n",
       "      <td>23</td>\n",
       "      <td>112</td>\n",
       "      <td>26.2</td>\n",
       "      <td>0.245</td>\n",
       "      <td>30</td>\n",
       "      <td>0</td>\n",
       "    </tr>\n",
       "    <tr>\n",
       "      <th>766</th>\n",
       "      <td>1</td>\n",
       "      <td>126</td>\n",
       "      <td>60</td>\n",
       "      <td>0</td>\n",
       "      <td>0</td>\n",
       "      <td>30.1</td>\n",
       "      <td>0.349</td>\n",
       "      <td>47</td>\n",
       "      <td>1</td>\n",
       "    </tr>\n",
       "    <tr>\n",
       "      <th>767</th>\n",
       "      <td>1</td>\n",
       "      <td>93</td>\n",
       "      <td>70</td>\n",
       "      <td>31</td>\n",
       "      <td>0</td>\n",
       "      <td>30.4</td>\n",
       "      <td>0.315</td>\n",
       "      <td>23</td>\n",
       "      <td>0</td>\n",
       "    </tr>\n",
       "  </tbody>\n",
       "</table>\n",
       "<p>768 rows × 9 columns</p>\n",
       "</div>"
      ],
      "text/plain": [
       "      0    1   2   3    4     5      6   7  8\n",
       "0     6  148  72  35    0  33.6  0.627  50  1\n",
       "1     1   85  66  29    0  26.6  0.351  31  0\n",
       "2     8  183  64   0    0  23.3  0.672  32  1\n",
       "3     1   89  66  23   94  28.1  0.167  21  0\n",
       "4     0  137  40  35  168  43.1  2.288  33  1\n",
       "..   ..  ...  ..  ..  ...   ...    ...  .. ..\n",
       "763  10  101  76  48  180  32.9  0.171  63  0\n",
       "764   2  122  70  27    0  36.8  0.340  27  0\n",
       "765   5  121  72  23  112  26.2  0.245  30  0\n",
       "766   1  126  60   0    0  30.1  0.349  47  1\n",
       "767   1   93  70  31    0  30.4  0.315  23  0\n",
       "\n",
       "[768 rows x 9 columns]"
      ]
     },
     "execution_count": 71,
     "metadata": {},
     "output_type": "execute_result"
    }
   ],
   "source": [
    "df"
   ]
  },
  {
   "cell_type": "code",
   "execution_count": 72,
   "metadata": {},
   "outputs": [],
   "source": [
    "header = [\"n_pregnancies\", \"plasma glucose concentration\", \"diastolic blood pressure\", \"triceps skin thickness\", \"2-hour serum insulin\", \"bmi\", \"diabetes pedigree function\", \"age\", \"diabetes\"]"
   ]
  },
  {
   "cell_type": "code",
   "execution_count": 73,
   "metadata": {},
   "outputs": [],
   "source": [
    "df.columns = header"
   ]
  },
  {
   "cell_type": "code",
   "execution_count": 74,
   "metadata": {},
   "outputs": [
    {
     "data": {
      "text/html": [
       "<div>\n",
       "<style scoped>\n",
       "    .dataframe tbody tr th:only-of-type {\n",
       "        vertical-align: middle;\n",
       "    }\n",
       "\n",
       "    .dataframe tbody tr th {\n",
       "        vertical-align: top;\n",
       "    }\n",
       "\n",
       "    .dataframe thead th {\n",
       "        text-align: right;\n",
       "    }\n",
       "</style>\n",
       "<table border=\"1\" class=\"dataframe\">\n",
       "  <thead>\n",
       "    <tr style=\"text-align: right;\">\n",
       "      <th></th>\n",
       "      <th>n_pregnancies</th>\n",
       "      <th>plasma glucose concentration</th>\n",
       "      <th>diastolic blood pressure</th>\n",
       "      <th>triceps skin thickness</th>\n",
       "      <th>2-hour serum insulin</th>\n",
       "      <th>bmi</th>\n",
       "      <th>diabetes pedigree function</th>\n",
       "      <th>age</th>\n",
       "      <th>diabetes</th>\n",
       "    </tr>\n",
       "  </thead>\n",
       "  <tbody>\n",
       "    <tr>\n",
       "      <th>0</th>\n",
       "      <td>6</td>\n",
       "      <td>148</td>\n",
       "      <td>72</td>\n",
       "      <td>35</td>\n",
       "      <td>0</td>\n",
       "      <td>33.6</td>\n",
       "      <td>0.627</td>\n",
       "      <td>50</td>\n",
       "      <td>1</td>\n",
       "    </tr>\n",
       "    <tr>\n",
       "      <th>1</th>\n",
       "      <td>1</td>\n",
       "      <td>85</td>\n",
       "      <td>66</td>\n",
       "      <td>29</td>\n",
       "      <td>0</td>\n",
       "      <td>26.6</td>\n",
       "      <td>0.351</td>\n",
       "      <td>31</td>\n",
       "      <td>0</td>\n",
       "    </tr>\n",
       "    <tr>\n",
       "      <th>2</th>\n",
       "      <td>8</td>\n",
       "      <td>183</td>\n",
       "      <td>64</td>\n",
       "      <td>0</td>\n",
       "      <td>0</td>\n",
       "      <td>23.3</td>\n",
       "      <td>0.672</td>\n",
       "      <td>32</td>\n",
       "      <td>1</td>\n",
       "    </tr>\n",
       "    <tr>\n",
       "      <th>3</th>\n",
       "      <td>1</td>\n",
       "      <td>89</td>\n",
       "      <td>66</td>\n",
       "      <td>23</td>\n",
       "      <td>94</td>\n",
       "      <td>28.1</td>\n",
       "      <td>0.167</td>\n",
       "      <td>21</td>\n",
       "      <td>0</td>\n",
       "    </tr>\n",
       "    <tr>\n",
       "      <th>4</th>\n",
       "      <td>0</td>\n",
       "      <td>137</td>\n",
       "      <td>40</td>\n",
       "      <td>35</td>\n",
       "      <td>168</td>\n",
       "      <td>43.1</td>\n",
       "      <td>2.288</td>\n",
       "      <td>33</td>\n",
       "      <td>1</td>\n",
       "    </tr>\n",
       "  </tbody>\n",
       "</table>\n",
       "</div>"
      ],
      "text/plain": [
       "   n_pregnancies  plasma glucose concentration  diastolic blood pressure  \\\n",
       "0              6                           148                        72   \n",
       "1              1                            85                        66   \n",
       "2              8                           183                        64   \n",
       "3              1                            89                        66   \n",
       "4              0                           137                        40   \n",
       "\n",
       "   triceps skin thickness  2-hour serum insulin   bmi  \\\n",
       "0                      35                     0  33.6   \n",
       "1                      29                     0  26.6   \n",
       "2                       0                     0  23.3   \n",
       "3                      23                    94  28.1   \n",
       "4                      35                   168  43.1   \n",
       "\n",
       "   diabetes pedigree function  age  diabetes  \n",
       "0                       0.627   50         1  \n",
       "1                       0.351   31         0  \n",
       "2                       0.672   32         1  \n",
       "3                       0.167   21         0  \n",
       "4                       2.288   33         1  "
      ]
     },
     "execution_count": 74,
     "metadata": {},
     "output_type": "execute_result"
    }
   ],
   "source": [
    "df.head()"
   ]
  },
  {
   "cell_type": "markdown",
   "metadata": {},
   "source": [
    "This dataset consists of 768 rows/instances/observations/entities/data points/tuples/samples and 9 columns/attributes/features/variables. First 8 attributes are so called independent attributes while the last one (9th) is a dependent attribute."
   ]
  },
  {
   "cell_type": "code",
   "execution_count": 75,
   "metadata": {},
   "outputs": [
    {
     "data": {
      "text/html": [
       "<div>\n",
       "<style scoped>\n",
       "    .dataframe tbody tr th:only-of-type {\n",
       "        vertical-align: middle;\n",
       "    }\n",
       "\n",
       "    .dataframe tbody tr th {\n",
       "        vertical-align: top;\n",
       "    }\n",
       "\n",
       "    .dataframe thead th {\n",
       "        text-align: right;\n",
       "    }\n",
       "</style>\n",
       "<table border=\"1\" class=\"dataframe\">\n",
       "  <thead>\n",
       "    <tr style=\"text-align: right;\">\n",
       "      <th></th>\n",
       "      <th>n_pregnancies</th>\n",
       "      <th>plasma glucose concentration</th>\n",
       "      <th>diastolic blood pressure</th>\n",
       "      <th>triceps skin thickness</th>\n",
       "      <th>2-hour serum insulin</th>\n",
       "      <th>bmi</th>\n",
       "      <th>diabetes pedigree function</th>\n",
       "      <th>age</th>\n",
       "      <th>diabetes</th>\n",
       "    </tr>\n",
       "  </thead>\n",
       "  <tbody>\n",
       "    <tr>\n",
       "      <th>count</th>\n",
       "      <td>768.000000</td>\n",
       "      <td>768.000000</td>\n",
       "      <td>768.000000</td>\n",
       "      <td>768.000000</td>\n",
       "      <td>768.000000</td>\n",
       "      <td>768.000000</td>\n",
       "      <td>768.000000</td>\n",
       "      <td>768.000000</td>\n",
       "      <td>768.000000</td>\n",
       "    </tr>\n",
       "    <tr>\n",
       "      <th>mean</th>\n",
       "      <td>3.845052</td>\n",
       "      <td>120.894531</td>\n",
       "      <td>69.105469</td>\n",
       "      <td>20.536458</td>\n",
       "      <td>79.799479</td>\n",
       "      <td>31.992578</td>\n",
       "      <td>0.471876</td>\n",
       "      <td>33.240885</td>\n",
       "      <td>0.348958</td>\n",
       "    </tr>\n",
       "    <tr>\n",
       "      <th>std</th>\n",
       "      <td>3.369578</td>\n",
       "      <td>31.972618</td>\n",
       "      <td>19.355807</td>\n",
       "      <td>15.952218</td>\n",
       "      <td>115.244002</td>\n",
       "      <td>7.884160</td>\n",
       "      <td>0.331329</td>\n",
       "      <td>11.760232</td>\n",
       "      <td>0.476951</td>\n",
       "    </tr>\n",
       "    <tr>\n",
       "      <th>min</th>\n",
       "      <td>0.000000</td>\n",
       "      <td>0.000000</td>\n",
       "      <td>0.000000</td>\n",
       "      <td>0.000000</td>\n",
       "      <td>0.000000</td>\n",
       "      <td>0.000000</td>\n",
       "      <td>0.078000</td>\n",
       "      <td>21.000000</td>\n",
       "      <td>0.000000</td>\n",
       "    </tr>\n",
       "    <tr>\n",
       "      <th>25%</th>\n",
       "      <td>1.000000</td>\n",
       "      <td>99.000000</td>\n",
       "      <td>62.000000</td>\n",
       "      <td>0.000000</td>\n",
       "      <td>0.000000</td>\n",
       "      <td>27.300000</td>\n",
       "      <td>0.243750</td>\n",
       "      <td>24.000000</td>\n",
       "      <td>0.000000</td>\n",
       "    </tr>\n",
       "    <tr>\n",
       "      <th>50%</th>\n",
       "      <td>3.000000</td>\n",
       "      <td>117.000000</td>\n",
       "      <td>72.000000</td>\n",
       "      <td>23.000000</td>\n",
       "      <td>30.500000</td>\n",
       "      <td>32.000000</td>\n",
       "      <td>0.372500</td>\n",
       "      <td>29.000000</td>\n",
       "      <td>0.000000</td>\n",
       "    </tr>\n",
       "    <tr>\n",
       "      <th>75%</th>\n",
       "      <td>6.000000</td>\n",
       "      <td>140.250000</td>\n",
       "      <td>80.000000</td>\n",
       "      <td>32.000000</td>\n",
       "      <td>127.250000</td>\n",
       "      <td>36.600000</td>\n",
       "      <td>0.626250</td>\n",
       "      <td>41.000000</td>\n",
       "      <td>1.000000</td>\n",
       "    </tr>\n",
       "    <tr>\n",
       "      <th>max</th>\n",
       "      <td>17.000000</td>\n",
       "      <td>199.000000</td>\n",
       "      <td>122.000000</td>\n",
       "      <td>99.000000</td>\n",
       "      <td>846.000000</td>\n",
       "      <td>67.100000</td>\n",
       "      <td>2.420000</td>\n",
       "      <td>81.000000</td>\n",
       "      <td>1.000000</td>\n",
       "    </tr>\n",
       "  </tbody>\n",
       "</table>\n",
       "</div>"
      ],
      "text/plain": [
       "       n_pregnancies  plasma glucose concentration  diastolic blood pressure  \\\n",
       "count     768.000000                    768.000000                768.000000   \n",
       "mean        3.845052                    120.894531                 69.105469   \n",
       "std         3.369578                     31.972618                 19.355807   \n",
       "min         0.000000                      0.000000                  0.000000   \n",
       "25%         1.000000                     99.000000                 62.000000   \n",
       "50%         3.000000                    117.000000                 72.000000   \n",
       "75%         6.000000                    140.250000                 80.000000   \n",
       "max        17.000000                    199.000000                122.000000   \n",
       "\n",
       "       triceps skin thickness  2-hour serum insulin         bmi  \\\n",
       "count              768.000000            768.000000  768.000000   \n",
       "mean                20.536458             79.799479   31.992578   \n",
       "std                 15.952218            115.244002    7.884160   \n",
       "min                  0.000000              0.000000    0.000000   \n",
       "25%                  0.000000              0.000000   27.300000   \n",
       "50%                 23.000000             30.500000   32.000000   \n",
       "75%                 32.000000            127.250000   36.600000   \n",
       "max                 99.000000            846.000000   67.100000   \n",
       "\n",
       "       diabetes pedigree function         age    diabetes  \n",
       "count                  768.000000  768.000000  768.000000  \n",
       "mean                     0.471876   33.240885    0.348958  \n",
       "std                      0.331329   11.760232    0.476951  \n",
       "min                      0.078000   21.000000    0.000000  \n",
       "25%                      0.243750   24.000000    0.000000  \n",
       "50%                      0.372500   29.000000    0.000000  \n",
       "75%                      0.626250   41.000000    1.000000  \n",
       "max                      2.420000   81.000000    1.000000  "
      ]
     },
     "execution_count": 75,
     "metadata": {},
     "output_type": "execute_result"
    }
   ],
   "source": [
    "df.describe()"
   ]
  },
  {
   "cell_type": "markdown",
   "metadata": {},
   "source": [
    "Mean value of the last column (diabetes), which is also our target variable, is 0.35. This means that a 35% of our data points belong to a positive class. So, this dataset is unbalanced but not too much."
   ]
  },
  {
   "cell_type": "code",
   "execution_count": 76,
   "metadata": {},
   "outputs": [
    {
     "name": "stdout",
     "output_type": "stream",
     "text": [
      "<class 'pandas.core.frame.DataFrame'>\n",
      "RangeIndex: 768 entries, 0 to 767\n",
      "Data columns (total 9 columns):\n",
      " #   Column                        Non-Null Count  Dtype  \n",
      "---  ------                        --------------  -----  \n",
      " 0   n_pregnancies                 768 non-null    int64  \n",
      " 1   plasma glucose concentration  768 non-null    int64  \n",
      " 2   diastolic blood pressure      768 non-null    int64  \n",
      " 3   triceps skin thickness        768 non-null    int64  \n",
      " 4   2-hour serum insulin          768 non-null    int64  \n",
      " 5   bmi                           768 non-null    float64\n",
      " 6   diabetes pedigree function    768 non-null    float64\n",
      " 7   age                           768 non-null    int64  \n",
      " 8   diabetes                      768 non-null    int64  \n",
      "dtypes: float64(2), int64(7)\n",
      "memory usage: 54.1 KB\n"
     ]
    }
   ],
   "source": [
    "df.info()"
   ]
  },
  {
   "cell_type": "markdown",
   "metadata": {},
   "source": [
    "Data types are okey and there are no None nor NaN values in our dataset. Unfortunately, that doesn't mean that we don't have any missing values. They can be encoded with other values like 0, -1, -999 or something like that. So it makes this process a little bit complicated. We also want to look if there are any potential outliers that don't make sense or some potential measurement errors. Just to mention, there could also be some regular/valid outliers. This is also a main reason for having some domain knowledge as a data scientist or at least to have an expert from an appropriate field beside you who can help you with detecting if something is out of place."
   ]
  },
  {
   "cell_type": "code",
   "execution_count": 77,
   "metadata": {},
   "outputs": [
    {
     "data": {
      "text/plain": [
       "(768, 9)"
      ]
     },
     "execution_count": 77,
     "metadata": {},
     "output_type": "execute_result"
    }
   ],
   "source": [
    "df.drop_duplicates(inplace=True)\n",
    "df.shape"
   ]
  },
  {
   "cell_type": "code",
   "execution_count": 78,
   "metadata": {},
   "outputs": [
    {
     "data": {
      "image/png": "[encoded data removed]",
      "text/plain": [
       "<Figure size 720x720 with 9 Axes>"
      ]
     },
     "metadata": {},
     "output_type": "display_data"
    }
   ],
   "source": [
    "df.hist(figsize=(10,10), xrot=-45)\n",
    "plt.show()"
   ]
  },
  {
   "cell_type": "markdown",
   "metadata": {},
   "source": [
    "From these histograms we can detect some suspicious values. At the first sight values at the upper/higher boundary are valid/realistic but there are 0 values for some attributes that don't make sense. Attributes **n_pregnancies** and **diabetes** have some 0 values and that's normal at the first sight. Maybe there are some missing values encoded with value 0 in the attribute n_pregnancies but we can't know that. Overall, 0 pregnancies make sense so we will leave it as it is. Values in the **age** attribute also make sense. There are no zero values nor some huge, nonsense, ages. **Diabetes pedigree function** doesn't have 0 values and whole range of values are in appropriate range so we won't touch this one. For **BMI** to be 0 your body mass should be 0 which is not possible. Second option is that you are extremely (impossibly) tall and you have really small, tiny, body mass which is also not possible. Knowing that, we can conclude that 0 value for BMI is for sure not valid. It's either a missing value encoded with zero or some measurement error. **Diastolic blood pressure** can be 0 in some rare cases but we have 35 instances with that value and then there is some gap up to the value of cca 40 which is really suspicious. The distribution that we can see from the histogram above is very similar as one for BMI. **Plasma glucose concentration** attribute also has similar distribution as last two attributes with some zero values. Maybe is that a sign that in this, particular dataset, missing values are encoded with 0s. **Triceps skin thickness** can't be 0. Now, we'll do some additional inspections into the data to verify what we previously mentioned. "
   ]
  },
  {
   "cell_type": "code",
   "execution_count": 79,
   "metadata": {},
   "outputs": [
    {
     "name": "stdout",
     "output_type": "stream",
     "text": [
      "Number of zero values in attribute n_pregnancies: 111\n",
      "Number of zero values in attribute plasma glucose concentration: 5\n",
      "Number of zero values in attribute diastolic blood pressure: 35\n",
      "Number of zero values in attribute triceps skin thickness: 227\n",
      "Number of zero values in attribute 2-hour serum insulin: 374\n",
      "Number of zero values in attribute bmi: 11\n",
      "Number of zero values in attribute diabetes pedigree function: 0\n",
      "Number of zero values in attribute age: 0\n",
      "Number of zero values in attribute diabetes: 500\n"
     ]
    }
   ],
   "source": [
    "for h in header:\n",
    "    mask = df[h] == 0\n",
    "    count = df[h][mask].count()\n",
    "    print(f\"Number of zero values in attribute {h}: {count}\")"
   ]
  },
  {
   "cell_type": "code",
   "execution_count": 80,
   "metadata": {},
   "outputs": [
    {
     "data": {
      "text/plain": [
       "145     0.0\n",
       "706     0.0\n",
       "522     0.0\n",
       "49      0.0\n",
       "371     0.0\n",
       "684     0.0\n",
       "60      0.0\n",
       "9       0.0\n",
       "426     0.0\n",
       "81      0.0\n",
       "494     0.0\n",
       "418    18.2\n",
       "438    18.2\n",
       "526    18.2\n",
       "239    18.4\n",
       "Name: bmi, dtype: float64"
      ]
     },
     "execution_count": 80,
     "metadata": {},
     "output_type": "execute_result"
    }
   ],
   "source": [
    "df[\"bmi\"].sort_values().iloc[:15]"
   ]
  },
  {
   "cell_type": "code",
   "execution_count": 81,
   "metadata": {},
   "outputs": [
    {
     "data": {
      "text/plain": [
       "347     0\n",
       "494     0\n",
       "222     0\n",
       "81      0\n",
       "78      0\n",
       "484     0\n",
       "468     0\n",
       "60      0\n",
       "453     0\n",
       "300     0\n",
       "261     0\n",
       "266     0\n",
       "706     0\n",
       "49      0\n",
       "703     0\n",
       "269     0\n",
       "435     0\n",
       "697     0\n",
       "643     0\n",
       "430     0\n",
       "193     0\n",
       "426     0\n",
       "619     0\n",
       "533     0\n",
       "15      0\n",
       "357     0\n",
       "535     0\n",
       "172     0\n",
       "604     0\n",
       "601     0\n",
       "332     0\n",
       "522     0\n",
       "589     0\n",
       "7       0\n",
       "336     0\n",
       "597    24\n",
       "18     30\n",
       "125    30\n",
       "599    38\n",
       "4      40\n",
       "Name: diastolic blood pressure, dtype: int64"
      ]
     },
     "execution_count": 81,
     "metadata": {},
     "output_type": "execute_result"
    }
   ],
   "source": [
    "df[\"diastolic blood pressure\"].sort_values().iloc[:40]"
   ]
  },
  {
   "cell_type": "code",
   "execution_count": 82,
   "metadata": {},
   "outputs": [
    {
     "data": {
      "text/plain": [
       "75      0\n",
       "502     0\n",
       "349     0\n",
       "342     0\n",
       "182     0\n",
       "62     44\n",
       "680    56\n",
       "537    57\n",
       "146    57\n",
       "352    61\n",
       "Name: plasma glucose concentration, dtype: int64"
      ]
     },
     "execution_count": 82,
     "metadata": {},
     "output_type": "execute_result"
    }
   ],
   "source": [
    "df[\"plasma glucose concentration\"].sort_values().iloc[:10]"
   ]
  },
  {
   "cell_type": "code",
   "execution_count": 83,
   "metadata": {},
   "outputs": [
    {
     "data": {
      "text/plain": [
       "106     0\n",
       "254     7\n",
       "519     7\n",
       "434     8\n",
       "382     8\n",
       "671    10\n",
       "466    10\n",
       "279    10\n",
       "55     10\n",
       "313    10\n",
       "698    11\n",
       "432    11\n",
       "316    11\n",
       "50     11\n",
       "585    11\n",
       "32     11\n",
       "169    12\n",
       "444    12\n",
       "639    12\n",
       "353    12\n",
       "Name: triceps skin thickness, dtype: int64"
      ]
     },
     "execution_count": 83,
     "metadata": {},
     "output_type": "execute_result"
    }
   ],
   "source": [
    "df[\"triceps skin thickness\"].sort_values().iloc[226:246]"
   ]
  },
  {
   "cell_type": "code",
   "execution_count": 84,
   "metadata": {},
   "outputs": [
    {
     "data": {
      "text/plain": [
       "207     0\n",
       "445    14\n",
       "617    15\n",
       "760    16\n",
       "108    18\n",
       "566    18\n",
       "711    22\n",
       "182    23\n",
       "52     23\n",
       "597    25\n",
       "323    29\n",
       "225    32\n",
       "51     36\n",
       "109    36\n",
       "466    36\n",
       "112    37\n",
       "232    37\n",
       "68     38\n",
       "103    40\n",
       "290    40\n",
       "607    41\n",
       "Name: 2-hour serum insulin, dtype: int64"
      ]
     },
     "execution_count": 84,
     "metadata": {},
     "output_type": "execute_result"
    }
   ],
   "source": [
    "df[\"2-hour serum insulin\"].sort_values().iloc[373:394]"
   ]
  },
  {
   "cell_type": "markdown",
   "metadata": {},
   "source": [
    "Now we're going to handle these missing data with a process that is called flag and fill. Filling part is already done because our missing data have 0 as it's value. If these data is encoded with the NaN or None values then we should manually do the filling part to convert these values into 0s. Flagging part means that you should flag the observation with an indicator variable of missingness."
   ]
  },
  {
   "cell_type": "code",
   "execution_count": 85,
   "metadata": {},
   "outputs": [],
   "source": [
    "missing = [\"bmi\", \"diastolic blood pressure\", \"plasma glucose concentration\", \"triceps skin thickness\", \"2-hour serum insulin\"]"
   ]
  },
  {
   "cell_type": "code",
   "execution_count": 86,
   "metadata": {},
   "outputs": [],
   "source": [
    "for m in missing:\n",
    "    df[m + \" missing\"] = (df[m] == 0).astype(int)"
   ]
  },
  {
   "cell_type": "code",
   "execution_count": 87,
   "metadata": {},
   "outputs": [
    {
     "data": {
      "text/html": [
       "<div>\n",
       "<style scoped>\n",
       "    .dataframe tbody tr th:only-of-type {\n",
       "        vertical-align: middle;\n",
       "    }\n",
       "\n",
       "    .dataframe tbody tr th {\n",
       "        vertical-align: top;\n",
       "    }\n",
       "\n",
       "    .dataframe thead th {\n",
       "        text-align: right;\n",
       "    }\n",
       "</style>\n",
       "<table border=\"1\" class=\"dataframe\">\n",
       "  <thead>\n",
       "    <tr style=\"text-align: right;\">\n",
       "      <th></th>\n",
       "      <th>n_pregnancies</th>\n",
       "      <th>plasma glucose concentration</th>\n",
       "      <th>diastolic blood pressure</th>\n",
       "      <th>triceps skin thickness</th>\n",
       "      <th>2-hour serum insulin</th>\n",
       "      <th>bmi</th>\n",
       "      <th>diabetes pedigree function</th>\n",
       "      <th>age</th>\n",
       "      <th>diabetes</th>\n",
       "      <th>bmi missing</th>\n",
       "      <th>diastolic blood pressure missing</th>\n",
       "      <th>plasma glucose concentration missing</th>\n",
       "      <th>triceps skin thickness missing</th>\n",
       "      <th>2-hour serum insulin missing</th>\n",
       "    </tr>\n",
       "  </thead>\n",
       "  <tbody>\n",
       "    <tr>\n",
       "      <th>0</th>\n",
       "      <td>6</td>\n",
       "      <td>148</td>\n",
       "      <td>72</td>\n",
       "      <td>35</td>\n",
       "      <td>0</td>\n",
       "      <td>33.6</td>\n",
       "      <td>0.627</td>\n",
       "      <td>50</td>\n",
       "      <td>1</td>\n",
       "      <td>0</td>\n",
       "      <td>0</td>\n",
       "      <td>0</td>\n",
       "      <td>0</td>\n",
       "      <td>1</td>\n",
       "    </tr>\n",
       "    <tr>\n",
       "      <th>1</th>\n",
       "      <td>1</td>\n",
       "      <td>85</td>\n",
       "      <td>66</td>\n",
       "      <td>29</td>\n",
       "      <td>0</td>\n",
       "      <td>26.6</td>\n",
       "      <td>0.351</td>\n",
       "      <td>31</td>\n",
       "      <td>0</td>\n",
       "      <td>0</td>\n",
       "      <td>0</td>\n",
       "      <td>0</td>\n",
       "      <td>0</td>\n",
       "      <td>1</td>\n",
       "    </tr>\n",
       "    <tr>\n",
       "      <th>2</th>\n",
       "      <td>8</td>\n",
       "      <td>183</td>\n",
       "      <td>64</td>\n",
       "      <td>0</td>\n",
       "      <td>0</td>\n",
       "      <td>23.3</td>\n",
       "      <td>0.672</td>\n",
       "      <td>32</td>\n",
       "      <td>1</td>\n",
       "      <td>0</td>\n",
       "      <td>0</td>\n",
       "      <td>0</td>\n",
       "      <td>1</td>\n",
       "      <td>1</td>\n",
       "    </tr>\n",
       "    <tr>\n",
       "      <th>3</th>\n",
       "      <td>1</td>\n",
       "      <td>89</td>\n",
       "      <td>66</td>\n",
       "      <td>23</td>\n",
       "      <td>94</td>\n",
       "      <td>28.1</td>\n",
       "      <td>0.167</td>\n",
       "      <td>21</td>\n",
       "      <td>0</td>\n",
       "      <td>0</td>\n",
       "      <td>0</td>\n",
       "      <td>0</td>\n",
       "      <td>0</td>\n",
       "      <td>0</td>\n",
       "    </tr>\n",
       "    <tr>\n",
       "      <th>4</th>\n",
       "      <td>0</td>\n",
       "      <td>137</td>\n",
       "      <td>40</td>\n",
       "      <td>35</td>\n",
       "      <td>168</td>\n",
       "      <td>43.1</td>\n",
       "      <td>2.288</td>\n",
       "      <td>33</td>\n",
       "      <td>1</td>\n",
       "      <td>0</td>\n",
       "      <td>0</td>\n",
       "      <td>0</td>\n",
       "      <td>0</td>\n",
       "      <td>0</td>\n",
       "    </tr>\n",
       "  </tbody>\n",
       "</table>\n",
       "</div>"
      ],
      "text/plain": [
       "   n_pregnancies  plasma glucose concentration  diastolic blood pressure  \\\n",
       "0              6                           148                        72   \n",
       "1              1                            85                        66   \n",
       "2              8                           183                        64   \n",
       "3              1                            89                        66   \n",
       "4              0                           137                        40   \n",
       "\n",
       "   triceps skin thickness  2-hour serum insulin   bmi  \\\n",
       "0                      35                     0  33.6   \n",
       "1                      29                     0  26.6   \n",
       "2                       0                     0  23.3   \n",
       "3                      23                    94  28.1   \n",
       "4                      35                   168  43.1   \n",
       "\n",
       "   diabetes pedigree function  age  diabetes  bmi missing  \\\n",
       "0                       0.627   50         1            0   \n",
       "1                       0.351   31         0            0   \n",
       "2                       0.672   32         1            0   \n",
       "3                       0.167   21         0            0   \n",
       "4                       2.288   33         1            0   \n",
       "\n",
       "   diastolic blood pressure missing  plasma glucose concentration missing  \\\n",
       "0                                 0                                     0   \n",
       "1                                 0                                     0   \n",
       "2                                 0                                     0   \n",
       "3                                 0                                     0   \n",
       "4                                 0                                     0   \n",
       "\n",
       "   triceps skin thickness missing  2-hour serum insulin missing  \n",
       "0                               0                             1  \n",
       "1                               0                             1  \n",
       "2                               1                             1  \n",
       "3                               0                             0  \n",
       "4                               0                             0  "
      ]
     },
     "execution_count": 87,
     "metadata": {},
     "output_type": "execute_result"
    }
   ],
   "source": [
    "df.head()"
   ]
  },
  {
   "cell_type": "markdown",
   "metadata": {},
   "source": [
    "# 2. Feature engineering?"
   ]
  },
  {
   "cell_type": "markdown",
   "metadata": {},
   "source": [
    "In classic machine learning, next step would be feature engineering but we'll left this part for a neural network. They are often really good at it. They can figure it out which data representations are the best for a concrete problem."
   ]
  },
  {
   "cell_type": "markdown",
   "metadata": {},
   "source": [
    "# 3. Modeling"
   ]
  },
  {
   "cell_type": "code",
   "execution_count": 88,
   "metadata": {},
   "outputs": [],
   "source": [
    "y = df.diabetes.to_numpy()[None].T\n",
    "X = df.drop(\"diabetes\", axis=1).to_numpy()"
   ]
  },
  {
   "cell_type": "code",
   "execution_count": 89,
   "metadata": {},
   "outputs": [
    {
     "name": "stdout",
     "output_type": "stream",
     "text": [
      "(768, 1)\n",
      "(768, 13)\n"
     ]
    }
   ],
   "source": [
    "print(y.shape)\n",
    "print(X.shape)"
   ]
  },
  {
   "cell_type": "code",
   "execution_count": 90,
   "metadata": {},
   "outputs": [],
   "source": [
    "seed = 42\n",
    "np.random.seed(seed)"
   ]
  },
  {
   "cell_type": "code",
   "execution_count": 93,
   "metadata": {},
   "outputs": [],
   "source": [
    "X_train, X_test, y_train, y_test = train_test_split(X, y, test_size=.10, random_state=seed)"
   ]
  },
  {
   "cell_type": "code",
   "execution_count": 94,
   "metadata": {},
   "outputs": [],
   "source": [
    "X_train, X_valid, y_train, y_valid = train_test_split(X_train, y_train, test_size=.15, random_state=seed)"
   ]
  },
  {
   "cell_type": "code",
   "execution_count": 95,
   "metadata": {},
   "outputs": [],
   "source": [
    "scaler = MinMaxScaler().fit(X_train)\n",
    "X_train_norm = scaler.transform(X_train)\n",
    "X_valid_norm = scaler.transform(X_valid)\n",
    "X_test_norm = scaler.transform(X_test)"
   ]
  },
  {
   "cell_type": "code",
   "execution_count": 97,
   "metadata": {},
   "outputs": [
    {
     "data": {
      "image/png": "[encoded data removed]",
      "text/plain": [
       "<Figure size 432x288 with 1 Axes>"
      ]
     },
     "metadata": {},
     "output_type": "display_data"
    },
    {
     "data": {
      "image/png": "[encoded data removed]",
      "text/plain": [
       "<Figure size 432x288 with 1 Axes>"
      ]
     },
     "metadata": {},
     "output_type": "display_data"
    }
   ],
   "source": [
    "model = Sequential()\n",
    "model.add(Dense(64, input_dim=13, activation='relu', kernel_initializer='he_uniform', kernel_regularizer=l2(0.003)))\n",
    "model.add(Dense(32, activation='relu', kernel_initializer='he_uniform', kernel_regularizer=l2(0.003)))\n",
    "model.add(Dense(16, activation='relu', kernel_initializer='he_uniform', kernel_regularizer=l2(0.003)))\n",
    "model.add(Dense(8, activation='relu', kernel_initializer='he_uniform', kernel_regularizer=l2(0.003)))\n",
    "model.add(Dense(1, activation='sigmoid'))\n",
    "\n",
    "model.compile(loss='binary_crossentropy', optimizer='adam', metrics=['accuracy'])\n",
    "history = model.fit(X_train_norm, y_train, validation_data=(X_valid_norm, y_valid), epochs=220, batch_size=12, verbose=0)\n",
    "\n",
    "plt.plot(history.history['accuracy'])\n",
    "plt.plot(history.history['val_accuracy'])\n",
    "plt.title('model accuracy')\n",
    "plt.ylabel('accuracy')\n",
    "plt.xlabel('epoch')\n",
    "plt.legend(['train', 'valid'], loc='upper left')\n",
    "plt.show()\n",
    "\n",
    "plt.plot(history.history['loss'])\n",
    "plt.plot(history.history['val_loss'])\n",
    "plt.title('model loss')\n",
    "plt.ylabel('loss')\n",
    "plt.xlabel('epoch')\n",
    "plt.legend(['train', 'valid'], loc='upper left')\n",
    "plt.show()"
   ]
  },
  {
   "cell_type": "code",
   "execution_count": 103,
   "metadata": {},
   "outputs": [
    {
     "name": "stdout",
     "output_type": "stream",
     "text": [
      "Evaluate on test data\n",
      "7/7 [==============================] - 0s 1ms/step - loss: 0.5717 - accuracy: 0.7662\n",
      "Test loss: 0.57\n",
      "Test acc: 0.77\n"
     ]
    }
   ],
   "source": [
    "print(\"Evaluate on test data\")\n",
    "results = model.evaluate(X_test_norm, y_test, batch_size=12)\n",
    "print(f\"Test loss: {round(results[0], 2)}\\nTest acc: {round(results[1], 2)}\")"
   ]
  },
  {
   "cell_type": "markdown",
   "metadata": {},
   "source": [
    "I've done some trial and error, i.e. some manual hyperparameter tuning (tried different values for different hyperparameters like number of layers, number of neurons in each layer, number of epochs, batch size, kernel_initializer and kernel_regularizer). There are other hyperparameters like loss function, optimizer and activation functions but I haven't tried to change them. There are much better ways to do this process of hyperparameter tuning like grid search, random search or even bayesian optimization."
   ]
  }
 ],
 "metadata": {
  "kernelspec": {
   "display_name": "Python 3",
   "language": "python",
   "name": "python3"
  },
  "language_info": {
   "codemirror_mode": {
    "name": "ipython",
    "version": 3
   },
   "file_extension": ".py",
   "mimetype": "text/x-python",
   "name": "python",
   "nbconvert_exporter": "python",
   "pygments_lexer": "ipython3",
   "version": "3.8.5"
  }
 },
 "nbformat": 4,
 "nbformat_minor": 4
}
